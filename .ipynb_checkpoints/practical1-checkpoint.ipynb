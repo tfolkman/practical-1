{
 "cells": [
  {
   "cell_type": "markdown",
   "metadata": {},
   "source": [
    "## Practical 1: word2vec\n",
    "<p>Oxford CS - Deep NLP 2017<br>\n",
    "https://www.cs.ox.ac.uk/teaching/courses/2016-2017/dl/</p>\n",
    "<p>[Yannis Assael, Brendan Shillingford, Chris Dyer]</p>"
   ]
  },
  {
   "cell_type": "markdown",
   "metadata": {},
   "source": [
    "This practical is presented as an IPython Notebook, with the code written for recent versions of **Python 3**. The code in this practical will not work with Python 2 unless you modify it. If you are using your own Python installation, ensure you have a setup identical to that described in the installation shell script (which is intended for use with the department lab machines). We will be unable to support installation on personal machines due to time constraints, so please use the lab machines and the setup script if you are unfamiliar with how to install Anaconda.\n",
    "\n",
    "To execute a notebook cell, press `shift-enter`. The return value of the last command will be displayed, if it is not `None`.\n",
    "\n",
    "Potentially useful library documentation, references, and resources:\n",
    "\n",
    "* IPython notebooks: <https://ipython.org/ipython-doc/3/notebook/notebook.html#introduction>\n",
    "* Numpy numerical array library: <https://docs.scipy.org/doc/>\n",
    "* Gensim's word2vec: <https://radimrehurek.com/gensim/models/word2vec.html>\n",
    "* Bokeh interactive plots: <http://bokeh.pydata.org/en/latest/> (we provide plotting code here, but click the thumbnails for more examples to copy-paste)\n",
    "* scikit-learn ML library (aka `sklearn`): <http://scikit-learn.org/stable/documentation.html>\n",
    "* nltk NLP toolkit: <http://www.nltk.org/>\n",
    "* tutorial for processing xml in python using `lxml`: <http://lxml.de/tutorial.html> (we did this for you below, but in case you need it in the future)"
   ]
  },
  {
   "cell_type": "code",
   "execution_count": 1,
   "metadata": {
    "collapsed": true
   },
   "outputs": [],
   "source": [
    "import numpy as np\n",
    "import os\n",
    "from random import shuffle\n",
    "import re"
   ]
  },
  {
   "cell_type": "code",
   "execution_count": 2,
   "metadata": {},
   "outputs": [
    {
     "data": {
      "text/html": [
       "\n",
       "    <div class=\"bk-root\">\n",
       "        <a href=\"http://bokeh.pydata.org\" target=\"_blank\" class=\"bk-logo bk-logo-small bk-logo-notebook\"></a>\n",
       "        <span id=\"8e7486e3-2c8e-4a7f-b164-e21ff60b4179\">Loading BokehJS ...</span>\n",
       "    </div>"
      ]
     },
     "metadata": {},
     "output_type": "display_data"
    },
    {
     "data": {
      "application/javascript": [
       "\n",
       "(function(global) {\n",
       "  function now() {\n",
       "    return new Date();\n",
       "  }\n",
       "\n",
       "  var force = true;\n",
       "\n",
       "  if (typeof (window._bokeh_onload_callbacks) === \"undefined\" || force === true) {\n",
       "    window._bokeh_onload_callbacks = [];\n",
       "    window._bokeh_is_loading = undefined;\n",
       "  }\n",
       "\n",
       "\n",
       "  \n",
       "  if (typeof (window._bokeh_timeout) === \"undefined\" || force === true) {\n",
       "    window._bokeh_timeout = Date.now() + 5000;\n",
       "    window._bokeh_failed_load = false;\n",
       "  }\n",
       "\n",
       "  var NB_LOAD_WARNING = {'data': {'text/html':\n",
       "     \"<div style='background-color: #fdd'>\\n\"+\n",
       "     \"<p>\\n\"+\n",
       "     \"BokehJS does not appear to have successfully loaded. If loading BokehJS from CDN, this \\n\"+\n",
       "     \"may be due to a slow or bad network connection. Possible fixes:\\n\"+\n",
       "     \"</p>\\n\"+\n",
       "     \"<ul>\\n\"+\n",
       "     \"<li>re-rerun `output_notebook()` to attempt to load from CDN again, or</li>\\n\"+\n",
       "     \"<li>use INLINE resources instead, as so:</li>\\n\"+\n",
       "     \"</ul>\\n\"+\n",
       "     \"<code>\\n\"+\n",
       "     \"from bokeh.resources import INLINE\\n\"+\n",
       "     \"output_notebook(resources=INLINE)\\n\"+\n",
       "     \"</code>\\n\"+\n",
       "     \"</div>\"}};\n",
       "\n",
       "  function display_loaded() {\n",
       "    if (window.Bokeh !== undefined) {\n",
       "      var el = document.getElementById(\"8e7486e3-2c8e-4a7f-b164-e21ff60b4179\");\n",
       "      el.textContent = \"BokehJS \" + Bokeh.version + \" successfully loaded.\";\n",
       "    } else if (Date.now() < window._bokeh_timeout) {\n",
       "      setTimeout(display_loaded, 100)\n",
       "    }\n",
       "  }\n",
       "\n",
       "  function run_callbacks() {\n",
       "    window._bokeh_onload_callbacks.forEach(function(callback) { callback() });\n",
       "    delete window._bokeh_onload_callbacks\n",
       "    console.info(\"Bokeh: all callbacks have finished\");\n",
       "  }\n",
       "\n",
       "  function load_libs(js_urls, callback) {\n",
       "    window._bokeh_onload_callbacks.push(callback);\n",
       "    if (window._bokeh_is_loading > 0) {\n",
       "      console.log(\"Bokeh: BokehJS is being loaded, scheduling callback at\", now());\n",
       "      return null;\n",
       "    }\n",
       "    if (js_urls == null || js_urls.length === 0) {\n",
       "      run_callbacks();\n",
       "      return null;\n",
       "    }\n",
       "    console.log(\"Bokeh: BokehJS not loaded, scheduling load and callback at\", now());\n",
       "    window._bokeh_is_loading = js_urls.length;\n",
       "    for (var i = 0; i < js_urls.length; i++) {\n",
       "      var url = js_urls[i];\n",
       "      var s = document.createElement('script');\n",
       "      s.src = url;\n",
       "      s.async = false;\n",
       "      s.onreadystatechange = s.onload = function() {\n",
       "        window._bokeh_is_loading--;\n",
       "        if (window._bokeh_is_loading === 0) {\n",
       "          console.log(\"Bokeh: all BokehJS libraries loaded\");\n",
       "          run_callbacks()\n",
       "        }\n",
       "      };\n",
       "      s.onerror = function() {\n",
       "        console.warn(\"failed to load library \" + url);\n",
       "      };\n",
       "      console.log(\"Bokeh: injecting script tag for BokehJS library: \", url);\n",
       "      document.getElementsByTagName(\"head\")[0].appendChild(s);\n",
       "    }\n",
       "  };var element = document.getElementById(\"8e7486e3-2c8e-4a7f-b164-e21ff60b4179\");\n",
       "  if (element == null) {\n",
       "    console.log(\"Bokeh: ERROR: autoload.js configured with elementid '8e7486e3-2c8e-4a7f-b164-e21ff60b4179' but no matching script tag was found. \")\n",
       "    return false;\n",
       "  }\n",
       "\n",
       "  var js_urls = [\"https://cdn.pydata.org/bokeh/release/bokeh-0.12.5.min.js\", \"https://cdn.pydata.org/bokeh/release/bokeh-widgets-0.12.5.min.js\"];\n",
       "\n",
       "  var inline_js = [\n",
       "    function(Bokeh) {\n",
       "      Bokeh.set_log_level(\"info\");\n",
       "    },\n",
       "    \n",
       "    function(Bokeh) {\n",
       "      \n",
       "    },\n",
       "    \n",
       "    function(Bokeh) {\n",
       "      \n",
       "      document.getElementById(\"8e7486e3-2c8e-4a7f-b164-e21ff60b4179\").textContent = \"BokehJS is loading...\";\n",
       "    },\n",
       "    function(Bokeh) {\n",
       "      console.log(\"Bokeh: injecting CSS: https://cdn.pydata.org/bokeh/release/bokeh-0.12.5.min.css\");\n",
       "      Bokeh.embed.inject_css(\"https://cdn.pydata.org/bokeh/release/bokeh-0.12.5.min.css\");\n",
       "      console.log(\"Bokeh: injecting CSS: https://cdn.pydata.org/bokeh/release/bokeh-widgets-0.12.5.min.css\");\n",
       "      Bokeh.embed.inject_css(\"https://cdn.pydata.org/bokeh/release/bokeh-widgets-0.12.5.min.css\");\n",
       "    }\n",
       "  ];\n",
       "\n",
       "  function run_inline_js() {\n",
       "    \n",
       "    if ((window.Bokeh !== undefined) || (force === true)) {\n",
       "      for (var i = 0; i < inline_js.length; i++) {\n",
       "        inline_js[i](window.Bokeh);\n",
       "      }if (force === true) {\n",
       "        display_loaded();\n",
       "      }} else if (Date.now() < window._bokeh_timeout) {\n",
       "      setTimeout(run_inline_js, 100);\n",
       "    } else if (!window._bokeh_failed_load) {\n",
       "      console.log(\"Bokeh: BokehJS failed to load within specified timeout.\");\n",
       "      window._bokeh_failed_load = true;\n",
       "    } else if (force !== true) {\n",
       "      var cell = $(document.getElementById(\"8e7486e3-2c8e-4a7f-b164-e21ff60b4179\")).parents('.cell').data().cell;\n",
       "      cell.output_area.append_execute_result(NB_LOAD_WARNING)\n",
       "    }\n",
       "\n",
       "  }\n",
       "\n",
       "  if (window._bokeh_is_loading === 0) {\n",
       "    console.log(\"Bokeh: BokehJS loaded, going straight to plotting\");\n",
       "    run_inline_js();\n",
       "  } else {\n",
       "    load_libs(js_urls, function() {\n",
       "      console.log(\"Bokeh: BokehJS plotting callback run at\", now());\n",
       "      run_inline_js();\n",
       "    });\n",
       "  }\n",
       "}(this));"
      ]
     },
     "metadata": {},
     "output_type": "display_data"
    }
   ],
   "source": [
    "from bokeh.models import ColumnDataSource, LabelSet\n",
    "from bokeh.plotting import figure, show, output_file\n",
    "from bokeh.io import output_notebook\n",
    "output_notebook()"
   ]
  },
  {
   "cell_type": "markdown",
   "metadata": {},
   "source": [
    "### Part 0: Download the TED dataset"
   ]
  },
  {
   "cell_type": "code",
   "execution_count": 3,
   "metadata": {
    "collapsed": true
   },
   "outputs": [],
   "source": [
    "import urllib.request\n",
    "import zipfile\n",
    "import lxml.etree"
   ]
  },
  {
   "cell_type": "code",
   "execution_count": 4,
   "metadata": {
    "collapsed": true
   },
   "outputs": [],
   "source": [
    "# Download the dataset if it's not already there: this may take a minute as it is 75MB\n",
    "if not os.path.isfile('ted_en-20160408.zip'):\n",
    "    urllib.request.urlretrieve(\"https://wit3.fbk.eu/get.php?path=XML_releases/xml/ted_en-20160408.zip&filename=ted_en-20160408.zip\", filename=\"ted_en-20160408.zip\")"
   ]
  },
  {
   "cell_type": "code",
   "execution_count": 5,
   "metadata": {
    "collapsed": true
   },
   "outputs": [],
   "source": [
    "# For now, we're only interested in the subtitle text, so let's extract that from the XML:\n",
    "with zipfile.ZipFile('ted_en-20160408.zip', 'r') as z:\n",
    "    doc = lxml.etree.parse(z.open('ted_en-20160408.xml', 'r'))\n",
    "input_text = '\\n'.join(doc.xpath('//content/text()'))\n",
    "del doc"
   ]
  },
  {
   "cell_type": "markdown",
   "metadata": {},
   "source": [
    "### Part 1: Preprocessing\n",
    "\n",
    "In this part, we attempt to clean up the raw subtitles a bit, so that we get only sentences. The following substring shows examples of what we're trying to get rid of. Since it's hard to define precisely what we want to get rid of, we'll just use some simple heuristics."
   ]
  },
  {
   "cell_type": "code",
   "execution_count": 6,
   "metadata": {},
   "outputs": [
    {
     "data": {
      "text/plain": [
       "24222849"
      ]
     },
     "execution_count": 6,
     "metadata": {},
     "output_type": "execute_result"
    }
   ],
   "source": [
    "len(input_text)"
   ]
  },
  {
   "cell_type": "code",
   "execution_count": 7,
   "metadata": {
    "scrolled": false
   },
   "outputs": [
    {
     "data": {
      "text/plain": [
       "' baby does.\\n(Video) Hyowon Gweon: See this? (Ball squeaks) Did you see that? (Ball squeaks) Cool. See this one? (Ball squeaks) Wow.\\nLaura Schulz: Told you. (Laughs)\\n(Vide'"
      ]
     },
     "execution_count": 7,
     "metadata": {},
     "output_type": "execute_result"
    }
   ],
   "source": [
    "i = input_text.find(\"Hyowon Gweon: See this?\")\n",
    "input_text[i-20:i+150]"
   ]
  },
  {
   "cell_type": "markdown",
   "metadata": {},
   "source": [
    "Let's start by removing all parenthesized strings using a regex:"
   ]
  },
  {
   "cell_type": "code",
   "execution_count": 8,
   "metadata": {
    "collapsed": true
   },
   "outputs": [],
   "source": [
    "input_text_noparens = re.sub(r'\\([^)]*\\)', '', input_text)"
   ]
  },
  {
   "cell_type": "markdown",
   "metadata": {},
   "source": [
    "We can verify the same location in the text is now clean as follows. We won't worry about the irregular spaces since we'll later split the text into sentences and tokenize it anyway."
   ]
  },
  {
   "cell_type": "code",
   "execution_count": 9,
   "metadata": {},
   "outputs": [
    {
     "data": {
      "text/plain": [
       "\"hat the baby does.\\n Hyowon Gweon: See this?  Did you see that?  Cool. See this one?  Wow.\\nLaura Schulz: Told you. \\n HG: See this one?  Hey Clara, this one's for you. You \""
      ]
     },
     "execution_count": 9,
     "metadata": {},
     "output_type": "execute_result"
    }
   ],
   "source": [
    "i = input_text_noparens.find(\"Hyowon Gweon: See this?\")\n",
    "input_text_noparens[i-20:i+150]"
   ]
  },
  {
   "cell_type": "markdown",
   "metadata": {},
   "source": [
    "Now, let's attempt to remove speakers' names that occur at the beginning of a line, by deleting pieces of the form \"`<up to 20 characters>:`\", as shown in this example. Of course, this is an imperfect heuristic. "
   ]
  },
  {
   "cell_type": "code",
   "execution_count": 10,
   "metadata": {},
   "outputs": [
    {
     "data": {
      "text/plain": [
       "[\"Here are two reasons companies fail: they only do more of the same, or they only do what's new\",\n",
       " 'To me the real, real solution to quality growth is figuring out the balance between two activities: exploration and exploitation',\n",
       " ' Both are necessary, but it can be too much of a good thing',\n",
       " 'Consider Facit',\n",
       " \" I'm actually old enough to remember them\"]"
      ]
     },
     "execution_count": 10,
     "metadata": {},
     "output_type": "execute_result"
    }
   ],
   "source": [
    "sentences_strings_ted = []\n",
    "for line in input_text_noparens.split('\\n'):\n",
    "    m = re.match(r'^(?:(?P<precolon>[^:]{,20}):)?(?P<postcolon>.*)$', line)\n",
    "    sentences_strings_ted.extend(sent for sent in m.groupdict()['postcolon'].split('.') if sent)\n",
    "\n",
    "# Uncomment if you need to save some RAM: these strings are about 50MB.\n",
    "# del input_text, input_text_noparens\n",
    "\n",
    "# Let's view the first few:\n",
    "sentences_strings_ted[:5]"
   ]
  },
  {
   "cell_type": "markdown",
   "metadata": {},
   "source": [
    "Now that we have sentences, we're ready to tokenize each of them into words. This tokenization is imperfect, of course. For instance, how many tokens is \"can't\", and where/how do we split it? We'll take the simplest naive approach of splitting on spaces. Before splitting, we remove non-alphanumeric characters, such as punctuation. You may want to consider the following question: why do we replace these characters with spaces rather than deleting them? Think of a case where this yields a different answer."
   ]
  },
  {
   "cell_type": "code",
   "execution_count": 11,
   "metadata": {
    "collapsed": true
   },
   "outputs": [],
   "source": [
    "sentences_ted = []\n",
    "for sent_str in sentences_strings_ted:\n",
    "    tokens = re.sub(r\"[^a-z0-9]+\", \" \", sent_str.lower()).split()\n",
    "    sentences_ted.append(tokens)"
   ]
  },
  {
   "cell_type": "markdown",
   "metadata": {},
   "source": [
    "Two sample processed sentences:"
   ]
  },
  {
   "cell_type": "code",
   "execution_count": 12,
   "metadata": {},
   "outputs": [
    {
     "data": {
      "text/plain": [
       "266694"
      ]
     },
     "execution_count": 12,
     "metadata": {},
     "output_type": "execute_result"
    }
   ],
   "source": [
    "len(sentences_ted)"
   ]
  },
  {
   "cell_type": "code",
   "execution_count": 13,
   "metadata": {},
   "outputs": [
    {
     "name": "stdout",
     "output_type": "stream",
     "text": [
      "['here', 'are', 'two', 'reasons', 'companies', 'fail', 'they', 'only', 'do', 'more', 'of', 'the', 'same', 'or', 'they', 'only', 'do', 'what', 's', 'new']\n",
      "['to', 'me', 'the', 'real', 'real', 'solution', 'to', 'quality', 'growth', 'is', 'figuring', 'out', 'the', 'balance', 'between', 'two', 'activities', 'exploration', 'and', 'exploitation']\n"
     ]
    }
   ],
   "source": [
    "print(sentences_ted[0])\n",
    "print(sentences_ted[1])"
   ]
  },
  {
   "cell_type": "markdown",
   "metadata": {},
   "source": [
    "### Part 2: Word Frequencies"
   ]
  },
  {
   "cell_type": "markdown",
   "metadata": {},
   "source": [
    "If you store the counts of the top 1000 words in a list called `counts_ted_top1000`, the code below will plot the histogram requested in the writeup."
   ]
  },
  {
   "cell_type": "code",
   "execution_count": 14,
   "metadata": {
    "collapsed": true
   },
   "outputs": [],
   "source": [
    "from collections import Counter"
   ]
  },
  {
   "cell_type": "code",
   "execution_count": 15,
   "metadata": {
    "collapsed": true
   },
   "outputs": [],
   "source": [
    "counts = Counter([word for sent in sentences_ted for word in sent]) \n",
    "top_1000 = counts.most_common(1000)"
   ]
  },
  {
   "cell_type": "code",
   "execution_count": 108,
   "metadata": {},
   "outputs": [
    {
     "data": {
      "text/plain": [
       "[('world', 8906),\n",
       " ('us', 8841),\n",
       " ('time', 8823),\n",
       " ('some', 8629),\n",
       " ('has', 8262),\n",
       " ('don', 8256),\n",
       " ('actually', 8011),\n",
       " ('into', 7858),\n",
       " ('way', 7735),\n",
       " ('where', 7724),\n",
       " ('will', 7617),\n",
       " ('years', 7537),\n",
       " ('things', 7536),\n",
       " ('other', 7281),\n",
       " ('no', 7227),\n",
       " ('could', 7183),\n",
       " ('go', 7168),\n",
       " ('well', 7141),\n",
       " ('want', 7119),\n",
       " ('been', 6937),\n",
       " ('make', 6806),\n",
       " ('right', 6521),\n",
       " ('she', 6424),\n",
       " ('said', 6358),\n",
       " ('something', 6307)]"
      ]
     },
     "execution_count": 108,
     "metadata": {},
     "output_type": "execute_result"
    }
   ],
   "source": [
    "top_1000[75:100]"
   ]
  },
  {
   "cell_type": "code",
   "execution_count": 17,
   "metadata": {
    "collapsed": true
   },
   "outputs": [],
   "source": [
    "counts_ted_top1000 = [x[1] for x in top_1000]"
   ]
  },
  {
   "cell_type": "markdown",
   "metadata": {},
   "source": [
    "Plot distribution of top-1000 words"
   ]
  },
  {
   "cell_type": "code",
   "execution_count": 18,
   "metadata": {},
   "outputs": [
    {
     "data": {
      "text/html": [
       "\n",
       "\n",
       "    <div class=\"bk-root\">\n",
       "        <div class=\"bk-plotdiv\" id=\"27f6465a-adc8-4810-93df-ae2a2b6601a3\"></div>\n",
       "    </div>\n",
       "<script type=\"text/javascript\">\n",
       "  \n",
       "  (function(global) {\n",
       "    function now() {\n",
       "      return new Date();\n",
       "    }\n",
       "  \n",
       "    var force = false;\n",
       "  \n",
       "    if (typeof (window._bokeh_onload_callbacks) === \"undefined\" || force === true) {\n",
       "      window._bokeh_onload_callbacks = [];\n",
       "      window._bokeh_is_loading = undefined;\n",
       "    }\n",
       "  \n",
       "  \n",
       "    \n",
       "    if (typeof (window._bokeh_timeout) === \"undefined\" || force === true) {\n",
       "      window._bokeh_timeout = Date.now() + 0;\n",
       "      window._bokeh_failed_load = false;\n",
       "    }\n",
       "  \n",
       "    var NB_LOAD_WARNING = {'data': {'text/html':\n",
       "       \"<div style='background-color: #fdd'>\\n\"+\n",
       "       \"<p>\\n\"+\n",
       "       \"BokehJS does not appear to have successfully loaded. If loading BokehJS from CDN, this \\n\"+\n",
       "       \"may be due to a slow or bad network connection. Possible fixes:\\n\"+\n",
       "       \"</p>\\n\"+\n",
       "       \"<ul>\\n\"+\n",
       "       \"<li>re-rerun `output_notebook()` to attempt to load from CDN again, or</li>\\n\"+\n",
       "       \"<li>use INLINE resources instead, as so:</li>\\n\"+\n",
       "       \"</ul>\\n\"+\n",
       "       \"<code>\\n\"+\n",
       "       \"from bokeh.resources import INLINE\\n\"+\n",
       "       \"output_notebook(resources=INLINE)\\n\"+\n",
       "       \"</code>\\n\"+\n",
       "       \"</div>\"}};\n",
       "  \n",
       "    function display_loaded() {\n",
       "      if (window.Bokeh !== undefined) {\n",
       "        var el = document.getElementById(\"27f6465a-adc8-4810-93df-ae2a2b6601a3\");\n",
       "        el.textContent = \"BokehJS \" + Bokeh.version + \" successfully loaded.\";\n",
       "      } else if (Date.now() < window._bokeh_timeout) {\n",
       "        setTimeout(display_loaded, 100)\n",
       "      }\n",
       "    }\n",
       "  \n",
       "    function run_callbacks() {\n",
       "      window._bokeh_onload_callbacks.forEach(function(callback) { callback() });\n",
       "      delete window._bokeh_onload_callbacks\n",
       "      console.info(\"Bokeh: all callbacks have finished\");\n",
       "    }\n",
       "  \n",
       "    function load_libs(js_urls, callback) {\n",
       "      window._bokeh_onload_callbacks.push(callback);\n",
       "      if (window._bokeh_is_loading > 0) {\n",
       "        console.log(\"Bokeh: BokehJS is being loaded, scheduling callback at\", now());\n",
       "        return null;\n",
       "      }\n",
       "      if (js_urls == null || js_urls.length === 0) {\n",
       "        run_callbacks();\n",
       "        return null;\n",
       "      }\n",
       "      console.log(\"Bokeh: BokehJS not loaded, scheduling load and callback at\", now());\n",
       "      window._bokeh_is_loading = js_urls.length;\n",
       "      for (var i = 0; i < js_urls.length; i++) {\n",
       "        var url = js_urls[i];\n",
       "        var s = document.createElement('script');\n",
       "        s.src = url;\n",
       "        s.async = false;\n",
       "        s.onreadystatechange = s.onload = function() {\n",
       "          window._bokeh_is_loading--;\n",
       "          if (window._bokeh_is_loading === 0) {\n",
       "            console.log(\"Bokeh: all BokehJS libraries loaded\");\n",
       "            run_callbacks()\n",
       "          }\n",
       "        };\n",
       "        s.onerror = function() {\n",
       "          console.warn(\"failed to load library \" + url);\n",
       "        };\n",
       "        console.log(\"Bokeh: injecting script tag for BokehJS library: \", url);\n",
       "        document.getElementsByTagName(\"head\")[0].appendChild(s);\n",
       "      }\n",
       "    };var element = document.getElementById(\"27f6465a-adc8-4810-93df-ae2a2b6601a3\");\n",
       "    if (element == null) {\n",
       "      console.log(\"Bokeh: ERROR: autoload.js configured with elementid '27f6465a-adc8-4810-93df-ae2a2b6601a3' but no matching script tag was found. \")\n",
       "      return false;\n",
       "    }\n",
       "  \n",
       "    var js_urls = [];\n",
       "  \n",
       "    var inline_js = [\n",
       "      function(Bokeh) {\n",
       "        (function() {\n",
       "          var fn = function() {\n",
       "            var docs_json = {\"9fd02457-8713-4460-9c77-f533e28cc29a\":{\"roots\":{\"references\":[{\"attributes\":{\"data_source\":{\"id\":\"0f11eabe-abf2-4c8e-a389-78a83a3060f8\",\"type\":\"ColumnDataSource\"},\"glyph\":{\"id\":\"1a9353a6-57e4-49bc-b344-cb4adc6bc44b\",\"type\":\"Quad\"},\"hover_glyph\":null,\"muted_glyph\":null,\"nonselection_glyph\":{\"id\":\"8f2e865d-c6dc-4fc6-bbb8-99b7b805a4b9\",\"type\":\"Quad\"},\"selection_glyph\":null},\"id\":\"7c74a277-c49b-49c2-a5d7-417d5a6c1915\",\"type\":\"GlyphRenderer\"},{\"attributes\":{\"plot\":{\"id\":\"dd6b054b-3c0b-4cdd-8021-5e5455a174c0\",\"subtype\":\"Figure\",\"type\":\"Plot\"}},\"id\":\"b916716b-0fe7-4d38-800d-e2b712dac829\",\"type\":\"WheelZoomTool\"},{\"attributes\":{},\"id\":\"5f172114-671a-4815-8a47-41e91d28ae0f\",\"type\":\"BasicTickFormatter\"},{\"attributes\":{\"plot\":{\"id\":\"dd6b054b-3c0b-4cdd-8021-5e5455a174c0\",\"subtype\":\"Figure\",\"type\":\"Plot\"}},\"id\":\"c5c69175-2b2a-41e3-b6e6-dd4e90bab611\",\"type\":\"ResetTool\"},{\"attributes\":{},\"id\":\"d774080a-1593-4795-84dd-a6af737b37f5\",\"type\":\"BasicTickFormatter\"},{\"attributes\":{\"plot\":{\"id\":\"dd6b054b-3c0b-4cdd-8021-5e5455a174c0\",\"subtype\":\"Figure\",\"type\":\"Plot\"}},\"id\":\"bca3f71d-73f4-4701-aeaa-a4c1ffe83268\",\"type\":\"SaveTool\"},{\"attributes\":{\"callback\":null,\"column_names\":[\"left\",\"right\",\"top\"],\"data\":{\"left\":{\"__ndarray__\":\"AAAAAABAeUB7FK5H4VqjQHsUrkfhxrFAuB6F61HguUB7FK5H4fzAQJqZmZmZCcVAuB6F61EWyUDXo3A9CiPNQHsUrkfhl9BACtejcD2e0kCamZmZmaTUQClcj8L1qtZAuB6F61Gx2EBI4XoUrrfaQNejcD0KvtxAZ2ZmZmbE3kB7FK5HYWXgQMP1KFyPaOFACtejcL1r4kBSuB6F627jQJqZmZkZcuRA4XoUrkd15UApXI/CdXjmQHE9Cteje+dAuB6F69F+6EAAAAAAAILpQEjhehQuhepAkML1KFyI60DXo3A9iovsQB+F61G4ju1AZ2ZmZuaR7kCuR+F6FJXvQHsUrkchTPBAH4XrUbjN8EDD9ShcT0/xQGdmZmbm0PFACtejcH1S8kCuR+F6FNTyQFK4HoWrVfNA9ihcj0LX80CamZmZ2Vj0QD4K16Nw2vRA4XoUrgdc9UCF61G4nt31QClcj8I1X/ZAzczMzMzg9kBxPQrXY2L3QBWuR+H64/dAuB6F65Fl+EBcj8L1KOf4QAAAAADAaPlApHA9Clfq+UBI4XoU7mv6QOxRuB6F7fpAkML1KBxv+0AzMzMzs/D7QNejcD1KcvxAexSuR+Hz/EAfhetReHX9QMP1KFwP9/1AZ2ZmZqZ4/kAK16NwPfr+QK5H4XrUe/9AUrgehWv9/0B7FK5HgT8AQc3MzMxMgABBH4XrURjBAEFxPQrX4wEBQcP1KFyvQgFBFa5H4XqDAUFnZmZmRsQBQbgehesRBQJBCtejcN1FAkFcj8L1qIYCQa5H4Xp0xwJBAAAAAEAIA0FSuB6FC0kDQaRwPQrXiQNB9ihcj6LKA0FI4XoUbgsEQZqZmZk5TARB7FG4HgWNBEE+Ctej0M0EQZDC9SicDgVB4XoUrmdPBUEzMzMzM5AFQYXrUbj+0AVB16NwPcoRBkEpXI/ClVIGQXsUrkdhkwZBzczMzCzUBkEfhetR+BQHQXE9CtfDVQdBw/UoXI+WB0EVrkfhWtcHQWdmZmYmGAhBuB6F6/FYCEEK16NwvZkIQVyPwvWI2ghBrkfhelQbCUE=\",\"dtype\":\"float64\",\"shape\":[100]},\"right\":{\"__ndarray__\":\"exSuR+Fao0B7FK5H4caxQLgehetR4LlAexSuR+H8wECamZmZmQnFQLgehetRFslA16NwPQojzUB7FK5H4ZfQQArXo3A9ntJAmpmZmZmk1EApXI/C9arWQLgehetRsdhASOF6FK632kDXo3A9Cr7cQGdmZmZmxN5AexSuR2Fl4EDD9Shcj2jhQArXo3C9a+JAUrgehetu40CamZmZGXLkQOF6FK5HdeVAKVyPwnV45kBxPQrXo3vnQLgehevRfuhAAAAAAACC6UBI4XoULoXqQJDC9ShciOtA16NwPYqL7EAfhetRuI7tQGdmZmbmke5ArkfhehSV70B7FK5HIUzwQB+F61G4zfBAw/UoXE9P8UBnZmZm5tDxQArXo3B9UvJArkfhehTU8kBSuB6Fq1XzQPYoXI9C1/NAmpmZmdlY9EA+CtejcNr0QOF6FK4HXPVAhetRuJ7d9UApXI/CNV/2QM3MzMzM4PZAcT0K12Ni90AVrkfh+uP3QLgeheuRZfhAXI/C9Sjn+EAAAAAAwGj5QKRwPQpX6vlASOF6FO5r+kDsUbgehe36QJDC9Sgcb/tAMzMzM7Pw+0DXo3A9SnL8QHsUrkfh8/xAH4XrUXh1/UDD9ShcD/f9QGdmZmameP5ACtejcD36/kCuR+F61Hv/QFK4HoVr/f9AexSuR4E/AEHNzMzMTIAAQR+F61EYwQBBcT0K1+MBAUHD9Shcr0IBQRWuR+F6gwFBZ2ZmZkbEAUG4HoXrEQUCQQrXo3DdRQJBXI/C9aiGAkGuR+F6dMcCQQAAAABACANBUrgehQtJA0GkcD0K14kDQfYoXI+iygNBSOF6FG4LBEGamZmZOUwEQexRuB4FjQRBPgrXo9DNBEGQwvUonA4FQeF6FK5nTwVBMzMzMzOQBUGF61G4/tAFQdejcD3KEQZBKVyPwpVSBkF7FK5HYZMGQc3MzMws1AZBH4XrUfgUB0FxPQrXw1UHQcP1KFyPlgdBFa5H4VrXB0FnZmZmJhgIQbgehevxWAhBCtejcL2ZCEFcj8L1iNoIQa5H4XpUGwlBAAAAACBcCUE=\",\"dtype\":\"float64\",\"shape\":[100]},\"top\":{\"__ndarray__\":\"50H1zNSBOT/ypb1tgHIBPwsriUb5Uew+zuTFiLI04j78kGUPxTHhPh40R25oQNY+zuTFiLI00j4pPQWW1y7APsTbB2FDRsg+JT0FltcuwD4tPQWW1y6wPi09BZbXLrA+JT0FltcuwD4tPQWW1y6gPiU9BZbXLrA+LT0FltcuoD4AAAAAAAAAADU9BZbXLqA+AAAAAAAAAAAAAAAAAAAAAAAAAAAAAAAAAAAAAAAAAAAAAAAAAAAAADU9BZbXLqA+AAAAAAAAAAAAAAAAAAAAAAAAAAAAAAAANT0FltcuoD4AAAAAAAAAAAAAAAAAAAAANT0FltcuoD4AAAAAAAAAACU9BZbXLqA+AAAAAAAAAAAlPQWW1y6gPkU9BZbXLqA+AAAAAAAAAAAlPQWW1y6gPgAAAAAAAAAAJT0FltcuoD4AAAAAAAAAAAAAAAAAAAAAAAAAAAAAAAAAAAAAAAAAAAAAAAAAAAAAJT0FltcuoD4AAAAAAAAAAAAAAAAAAAAAAAAAAAAAAAAAAAAAAAAAACU9BZbXLqA+AAAAAAAAAAAAAAAAAAAAAAAAAAAAAAAAAAAAAAAAAAAlPQWW1y6gPgAAAAAAAAAAAAAAAAAAAAAAAAAAAAAAAAAAAAAAAAAART0FltcuoD4AAAAAAAAAAAAAAAAAAAAAAAAAAAAAAAAAAAAAAAAAAAAAAAAAAAAAAAAAAAAAAAAAAAAAAAAAAAAAAAAAAAAAAAAAAAAAAAAAAAAAAAAAACU9BZbXLqA+AAAAAAAAAAAAAAAAAAAAAAAAAAAAAAAAAAAAAAAAAAAAAAAAAAAAAAAAAAAAAAAAAAAAAAAAAAAAAAAAAAAAAAAAAAAAAAAAAAAAAAAAAAAAAAAAAAAAAAAAAAAAAAAAAAAAAAAAAAAAAAAAAAAAAAAAAAAAAAAAAAAAAAAAAAAAAAAAAAAAAAAAAAAAAAAAAAAAAAAAAAAAAAAAAAAAAAAAAAAAAAAAAAAAAAAAAAAAAAAAAAAAAAAAAAAAAAAAAAAAAAAAAAAAAAAAAAAAAAAAAAAAAAAAJT0FltcuoD4=\",\"dtype\":\"float64\",\"shape\":[100]}}},\"id\":\"0f11eabe-abf2-4c8e-a389-78a83a3060f8\",\"type\":\"ColumnDataSource\"},{\"attributes\":{\"below\":[{\"id\":\"bce78b5e-6f82-47cc-87f1-e3f59a463e3f\",\"type\":\"LinearAxis\"}],\"left\":[{\"id\":\"fa094081-79ee-4624-8fd1-a9a1ff62fe7c\",\"type\":\"LinearAxis\"}],\"renderers\":[{\"id\":\"bce78b5e-6f82-47cc-87f1-e3f59a463e3f\",\"type\":\"LinearAxis\"},{\"id\":\"556b6446-b20d-41fb-8c0b-a515c5e2c018\",\"type\":\"Grid\"},{\"id\":\"fa094081-79ee-4624-8fd1-a9a1ff62fe7c\",\"type\":\"LinearAxis\"},{\"id\":\"48eb536f-3459-4983-8bb5-c03ecb5a9b5e\",\"type\":\"Grid\"},{\"id\":\"7c74a277-c49b-49c2-a5d7-417d5a6c1915\",\"type\":\"GlyphRenderer\"}],\"title\":{\"id\":\"ba970f2d-1507-4074-afba-0df5146628c8\",\"type\":\"Title\"},\"tool_events\":{\"id\":\"f9a378aa-56cc-422a-a53f-003ddbe4f0d3\",\"type\":\"ToolEvents\"},\"toolbar\":{\"id\":\"07314e3b-ee0a-4f81-888a-19e42183cda6\",\"type\":\"Toolbar\"},\"toolbar_location\":\"above\",\"x_range\":{\"id\":\"1c89371e-6033-41f2-954f-a9b45c19e7c3\",\"type\":\"DataRange1d\"},\"y_range\":{\"id\":\"47cd9fd7-1b0b-4d9d-a259-e45c811a1339\",\"type\":\"DataRange1d\"}},\"id\":\"dd6b054b-3c0b-4cdd-8021-5e5455a174c0\",\"subtype\":\"Figure\",\"type\":\"Plot\"},{\"attributes\":{\"bottom\":{\"value\":0},\"fill_alpha\":{\"value\":0.1},\"fill_color\":{\"value\":\"#1f77b4\"},\"left\":{\"field\":\"left\"},\"line_alpha\":{\"value\":0.1},\"line_color\":{\"value\":\"#1f77b4\"},\"right\":{\"field\":\"right\"},\"top\":{\"field\":\"top\"}},\"id\":\"8f2e865d-c6dc-4fc6-bbb8-99b7b805a4b9\",\"type\":\"Quad\"},{\"attributes\":{\"plot\":null,\"text\":\"Top-1000 words distribution\"},\"id\":\"ba970f2d-1507-4074-afba-0df5146628c8\",\"type\":\"Title\"},{\"attributes\":{\"active_drag\":\"auto\",\"active_scroll\":\"auto\",\"active_tap\":\"auto\",\"tools\":[{\"id\":\"001220e1-b81e-4dd5-a867-f7446a36a268\",\"type\":\"PanTool\"},{\"id\":\"b916716b-0fe7-4d38-800d-e2b712dac829\",\"type\":\"WheelZoomTool\"},{\"id\":\"c5c69175-2b2a-41e3-b6e6-dd4e90bab611\",\"type\":\"ResetTool\"},{\"id\":\"bca3f71d-73f4-4701-aeaa-a4c1ffe83268\",\"type\":\"SaveTool\"}]},\"id\":\"07314e3b-ee0a-4f81-888a-19e42183cda6\",\"type\":\"Toolbar\"},{\"attributes\":{\"callback\":null},\"id\":\"1c89371e-6033-41f2-954f-a9b45c19e7c3\",\"type\":\"DataRange1d\"},{\"attributes\":{\"bottom\":{\"value\":0},\"fill_color\":{\"value\":\"#1f77b4\"},\"left\":{\"field\":\"left\"},\"line_color\":{\"value\":\"#555555\"},\"right\":{\"field\":\"right\"},\"top\":{\"field\":\"top\"}},\"id\":\"1a9353a6-57e4-49bc-b344-cb4adc6bc44b\",\"type\":\"Quad\"},{\"attributes\":{\"formatter\":{\"id\":\"d774080a-1593-4795-84dd-a6af737b37f5\",\"type\":\"BasicTickFormatter\"},\"plot\":{\"id\":\"dd6b054b-3c0b-4cdd-8021-5e5455a174c0\",\"subtype\":\"Figure\",\"type\":\"Plot\"},\"ticker\":{\"id\":\"999dfd8e-c452-41db-9b87-2a6b4ee81ee0\",\"type\":\"BasicTicker\"}},\"id\":\"bce78b5e-6f82-47cc-87f1-e3f59a463e3f\",\"type\":\"LinearAxis\"},{\"attributes\":{\"callback\":null},\"id\":\"47cd9fd7-1b0b-4d9d-a259-e45c811a1339\",\"type\":\"DataRange1d\"},{\"attributes\":{},\"id\":\"999dfd8e-c452-41db-9b87-2a6b4ee81ee0\",\"type\":\"BasicTicker\"},{\"attributes\":{\"formatter\":{\"id\":\"5f172114-671a-4815-8a47-41e91d28ae0f\",\"type\":\"BasicTickFormatter\"},\"plot\":{\"id\":\"dd6b054b-3c0b-4cdd-8021-5e5455a174c0\",\"subtype\":\"Figure\",\"type\":\"Plot\"},\"ticker\":{\"id\":\"e625b7e7-5235-4fcf-a568-81915fcd186f\",\"type\":\"BasicTicker\"}},\"id\":\"fa094081-79ee-4624-8fd1-a9a1ff62fe7c\",\"type\":\"LinearAxis\"},{\"attributes\":{},\"id\":\"e625b7e7-5235-4fcf-a568-81915fcd186f\",\"type\":\"BasicTicker\"},{\"attributes\":{\"dimension\":1,\"plot\":{\"id\":\"dd6b054b-3c0b-4cdd-8021-5e5455a174c0\",\"subtype\":\"Figure\",\"type\":\"Plot\"},\"ticker\":{\"id\":\"e625b7e7-5235-4fcf-a568-81915fcd186f\",\"type\":\"BasicTicker\"}},\"id\":\"48eb536f-3459-4983-8bb5-c03ecb5a9b5e\",\"type\":\"Grid\"},{\"attributes\":{\"plot\":{\"id\":\"dd6b054b-3c0b-4cdd-8021-5e5455a174c0\",\"subtype\":\"Figure\",\"type\":\"Plot\"}},\"id\":\"001220e1-b81e-4dd5-a867-f7446a36a268\",\"type\":\"PanTool\"},{\"attributes\":{},\"id\":\"f9a378aa-56cc-422a-a53f-003ddbe4f0d3\",\"type\":\"ToolEvents\"},{\"attributes\":{\"plot\":{\"id\":\"dd6b054b-3c0b-4cdd-8021-5e5455a174c0\",\"subtype\":\"Figure\",\"type\":\"Plot\"},\"ticker\":{\"id\":\"999dfd8e-c452-41db-9b87-2a6b4ee81ee0\",\"type\":\"BasicTicker\"}},\"id\":\"556b6446-b20d-41fb-8c0b-a515c5e2c018\",\"type\":\"Grid\"}],\"root_ids\":[\"dd6b054b-3c0b-4cdd-8021-5e5455a174c0\"]},\"title\":\"Bokeh Application\",\"version\":\"0.12.5\"}};\n",
       "            var render_items = [{\"docid\":\"9fd02457-8713-4460-9c77-f533e28cc29a\",\"elementid\":\"27f6465a-adc8-4810-93df-ae2a2b6601a3\",\"modelid\":\"dd6b054b-3c0b-4cdd-8021-5e5455a174c0\"}];\n",
       "            \n",
       "            Bokeh.embed.embed_items(docs_json, render_items);\n",
       "          };\n",
       "          if (document.readyState != \"loading\") fn();\n",
       "          else document.addEventListener(\"DOMContentLoaded\", fn);\n",
       "        })();\n",
       "      },\n",
       "      function(Bokeh) {\n",
       "      }\n",
       "    ];\n",
       "  \n",
       "    function run_inline_js() {\n",
       "      \n",
       "      if ((window.Bokeh !== undefined) || (force === true)) {\n",
       "        for (var i = 0; i < inline_js.length; i++) {\n",
       "          inline_js[i](window.Bokeh);\n",
       "        }if (force === true) {\n",
       "          display_loaded();\n",
       "        }} else if (Date.now() < window._bokeh_timeout) {\n",
       "        setTimeout(run_inline_js, 100);\n",
       "      } else if (!window._bokeh_failed_load) {\n",
       "        console.log(\"Bokeh: BokehJS failed to load within specified timeout.\");\n",
       "        window._bokeh_failed_load = true;\n",
       "      } else if (force !== true) {\n",
       "        var cell = $(document.getElementById(\"27f6465a-adc8-4810-93df-ae2a2b6601a3\")).parents('.cell').data().cell;\n",
       "        cell.output_area.append_execute_result(NB_LOAD_WARNING)\n",
       "      }\n",
       "  \n",
       "    }\n",
       "  \n",
       "    if (window._bokeh_is_loading === 0) {\n",
       "      console.log(\"Bokeh: BokehJS loaded, going straight to plotting\");\n",
       "      run_inline_js();\n",
       "    } else {\n",
       "      load_libs(js_urls, function() {\n",
       "        console.log(\"Bokeh: BokehJS plotting callback run at\", now());\n",
       "        run_inline_js();\n",
       "      });\n",
       "    }\n",
       "  }(this));\n",
       "</script>"
      ]
     },
     "metadata": {},
     "output_type": "display_data"
    }
   ],
   "source": [
    "hist, edges = np.histogram(counts_ted_top1000, density=True, bins=100, normed=True)\n",
    "\n",
    "p = figure(tools=\"pan,wheel_zoom,reset,save\",\n",
    "           toolbar_location=\"above\",\n",
    "           title=\"Top-1000 words distribution\")\n",
    "p.quad(top=hist, bottom=0, left=edges[:-1], right=edges[1:], line_color=\"#555555\")\n",
    "show(p)"
   ]
  },
  {
   "cell_type": "markdown",
   "metadata": {},
   "source": [
    "### Part 3: Train Word2Vec"
   ]
  },
  {
   "cell_type": "code",
   "execution_count": 19,
   "metadata": {},
   "outputs": [
    {
     "name": "stderr",
     "output_type": "stream",
     "text": [
      "Using TensorFlow backend.\n"
     ]
    }
   ],
   "source": [
    "from gensim.models import Word2Vec"
   ]
  },
  {
   "cell_type": "code",
   "execution_count": 20,
   "metadata": {
    "collapsed": true
   },
   "outputs": [],
   "source": [
    "model_ted = Word2Vec(sentences_ted, min_count=10, workers=6)"
   ]
  },
  {
   "cell_type": "markdown",
   "metadata": {},
   "source": [
    "### Part 4: Ted Learnt Representations"
   ]
  },
  {
   "cell_type": "markdown",
   "metadata": {},
   "source": [
    "Finding similar words: (see gensim docs for more functionality of `most_similar`)"
   ]
  },
  {
   "cell_type": "code",
   "execution_count": 21,
   "metadata": {},
   "outputs": [
    {
     "data": {
      "text/plain": [
       "[('woman', 0.8300610780715942),\n",
       " ('guy', 0.802416980266571),\n",
       " ('gentleman', 0.7405089139938354),\n",
       " ('boy', 0.7347660064697266),\n",
       " ('soldier', 0.7316951751708984),\n",
       " ('lady', 0.7305821180343628),\n",
       " ('girl', 0.7168660163879395),\n",
       " ('surgeon', 0.7000766396522522),\n",
       " ('kid', 0.6998100876808167),\n",
       " ('photographer', 0.6587727665901184)]"
      ]
     },
     "execution_count": 21,
     "metadata": {},
     "output_type": "execute_result"
    }
   ],
   "source": [
    "model_ted.most_similar(\"man\")"
   ]
  },
  {
   "cell_type": "code",
   "execution_count": 22,
   "metadata": {},
   "outputs": [
    {
     "data": {
      "text/plain": [
       "[('machine', 0.7612398862838745),\n",
       " ('software', 0.7219146490097046),\n",
       " ('robot', 0.697919487953186),\n",
       " ('3d', 0.650188684463501),\n",
       " ('device', 0.6457031965255737),\n",
       " ('program', 0.6247596144676208),\n",
       " ('simulation', 0.6215550899505615),\n",
       " ('chip', 0.619786262512207),\n",
       " ('interface', 0.6176547408103943),\n",
       " ('mechanical', 0.6167272329330444)]"
      ]
     },
     "execution_count": 22,
     "metadata": {},
     "output_type": "execute_result"
    }
   ],
   "source": [
    "model_ted.most_similar(\"computer\")"
   ]
  },
  {
   "cell_type": "markdown",
   "metadata": {},
   "source": [
    "### Keras Word 2 Vec - Skip Gram"
   ]
  },
  {
   "cell_type": "code",
   "execution_count": 110,
   "metadata": {
    "collapsed": true
   },
   "outputs": [],
   "source": [
    "min_count = 10\n",
    "size = 100\n",
    "window = 5\n",
    "max_vocab_size = 2500\n",
    "stop_size = 100"
   ]
  },
  {
   "cell_type": "code",
   "execution_count": 111,
   "metadata": {
    "collapsed": true
   },
   "outputs": [],
   "source": [
    "stop_words = [x[0] for x in counts.most_common(stop_size)]\n",
    "keep_words = [x[0] for x in counts.most_common(max_vocab_size)]"
   ]
  },
  {
   "cell_type": "code",
   "execution_count": 112,
   "metadata": {
    "collapsed": true
   },
   "outputs": [],
   "source": [
    "unique_words = set()\n",
    "for sent in sentences_ted:\n",
    "    for word in sent:\n",
    "        if counts[word] >= min_count and word not in stop_words and word in keep_words:\n",
    "            unique_words.add(word)\n",
    "unique_words = list(unique_words)"
   ]
  },
  {
   "cell_type": "code",
   "execution_count": 113,
   "metadata": {},
   "outputs": [],
   "source": [
    "word2index = {w:i for i, w in enumerate(unique_words)}\n",
    "index2word = {i:w for i, w in enumerate(unique_words)}"
   ]
  },
  {
   "cell_type": "code",
   "execution_count": 114,
   "metadata": {},
   "outputs": [
    {
     "name": "stdout",
     "output_type": "stream",
     "text": [
      "2400\n"
     ]
    }
   ],
   "source": [
    "vocab_size = len(word2index)\n",
    "print(vocab_size)"
   ]
  },
  {
   "cell_type": "code",
   "execution_count": 115,
   "metadata": {
    "collapsed": true
   },
   "outputs": [],
   "source": [
    "sentences_ted_no_min = []\n",
    "for sent in sentences_ted:\n",
    "    clean_sent = []\n",
    "    for word in sent:\n",
    "        if word in word2index:\n",
    "            clean_sent.append(word2index[word])\n",
    "    sentences_ted_no_min.append(clean_sent)"
   ]
  },
  {
   "cell_type": "code",
   "execution_count": 116,
   "metadata": {
    "collapsed": true
   },
   "outputs": [],
   "source": [
    "from keras.preprocessing.sequence import skipgrams"
   ]
  },
  {
   "cell_type": "code",
   "execution_count": 117,
   "metadata": {},
   "outputs": [],
   "source": [
    "all_ted_skipgrams = []\n",
    "for sent in sentences_ted_no_min:\n",
    "    ted_skipgrams, _ = skipgrams(sequence=sent, vocabulary_size=vocab_size, window_size=window,\n",
    "                                 negative_samples=0.0)\n",
    "    for s in ted_skipgrams:\n",
    "        all_ted_skipgrams.append(s)"
   ]
  },
  {
   "cell_type": "code",
   "execution_count": 118,
   "metadata": {},
   "outputs": [
    {
     "data": {
      "text/plain": [
       "7885886"
      ]
     },
     "execution_count": 118,
     "metadata": {},
     "output_type": "execute_result"
    }
   ],
   "source": [
    "len(all_ted_skipgrams)"
   ]
  },
  {
   "cell_type": "code",
   "execution_count": 119,
   "metadata": {},
   "outputs": [
    {
     "data": {
      "text/plain": [
       "[1365, 2264]"
      ]
     },
     "execution_count": 119,
     "metadata": {},
     "output_type": "execute_result"
    }
   ],
   "source": [
    "all_ted_skipgrams[0]"
   ]
  },
  {
   "cell_type": "code",
   "execution_count": 166,
   "metadata": {
    "collapsed": true
   },
   "outputs": [],
   "source": [
    "import numpy as np\n",
    "data, labels = [], []\n",
    "for s in all_ted_skipgrams:\n",
    "    data.append(s[0])\n",
    "    labels.append(s[1])\n",
    "data = np.expand_dims(np.array(data), 1)\n",
    "labels = np.expand_dims(np.array(labels), 1)"
   ]
  },
  {
   "cell_type": "code",
   "execution_count": 121,
   "metadata": {
    "collapsed": true
   },
   "outputs": [],
   "source": [
    "from keras.models import Sequential\n",
    "from keras.layers import Embedding, Dense, Flatten"
   ]
  },
  {
   "cell_type": "code",
   "execution_count": 122,
   "metadata": {},
   "outputs": [],
   "source": [
    "model = Sequential()\n",
    "model.add(Embedding(vocab_size, size, input_length=1))\n",
    "model.add(Flatten())\n",
    "model.add(Dense(vocab_size, activation='softmax'))"
   ]
  },
  {
   "cell_type": "code",
   "execution_count": 123,
   "metadata": {},
   "outputs": [],
   "source": [
    "model.compile(optimizer='adam',\n",
    "              loss='sparse_categorical_crossentropy',\n",
    "              metrics=['acc'])"
   ]
  },
  {
   "cell_type": "code",
   "execution_count": 124,
   "metadata": {},
   "outputs": [
    {
     "name": "stdout",
     "output_type": "stream",
     "text": [
      "Epoch 1/1\n",
      "7885886/7885886 [==============================] - 1245s - loss: 7.0854 - acc: 0.0186  \n"
     ]
    },
    {
     "data": {
      "text/plain": [
       "<keras.callbacks.History at 0x16da738d0>"
      ]
     },
     "execution_count": 124,
     "metadata": {},
     "output_type": "execute_result"
    }
   ],
   "source": [
    "model.fit(data, labels, epochs=1, batch_size=64)"
   ]
  },
  {
   "cell_type": "code",
   "execution_count": 164,
   "metadata": {
    "collapsed": true
   },
   "outputs": [],
   "source": [
    "model.optimizer.lr = .0001"
   ]
  },
  {
   "cell_type": "code",
   "execution_count": 167,
   "metadata": {},
   "outputs": [
    {
     "name": "stdout",
     "output_type": "stream",
     "text": [
      "Epoch 1/1\n",
      "7885886/7885886 [==============================] - 1336s - loss: 7.0387 - acc: 0.0208  \n"
     ]
    },
    {
     "data": {
      "text/plain": [
       "<keras.callbacks.History at 0x16dd98518>"
      ]
     },
     "execution_count": 167,
     "metadata": {},
     "output_type": "execute_result"
    }
   ],
   "source": [
    "model.fit(data, labels, epochs=1, batch_size=64)"
   ]
  },
  {
   "cell_type": "code",
   "execution_count": 168,
   "metadata": {
    "collapsed": true
   },
   "outputs": [],
   "source": [
    "weights = model.layers[0].get_weights()[0]"
   ]
  },
  {
   "cell_type": "code",
   "execution_count": 169,
   "metadata": {
    "collapsed": true
   },
   "outputs": [],
   "source": [
    "from sklearn.metrics.pairwise import cosine_similarity"
   ]
  },
  {
   "cell_type": "code",
   "execution_count": 170,
   "metadata": {
    "collapsed": true
   },
   "outputs": [],
   "source": [
    "similarities = cosine_similarity(weights)"
   ]
  },
  {
   "cell_type": "code",
   "execution_count": 171,
   "metadata": {},
   "outputs": [
    {
     "data": {
      "text/plain": [
       "(2400, 2400)"
      ]
     },
     "execution_count": 171,
     "metadata": {},
     "output_type": "execute_result"
    }
   ],
   "source": [
    "similarities.shape"
   ]
  },
  {
   "cell_type": "code",
   "execution_count": 172,
   "metadata": {},
   "outputs": [],
   "source": [
    "top_k_most_similar = lambda w, k: [index2word[x] for x in similarities[w].argsort()[-k:][::-1]]"
   ]
  },
  {
   "cell_type": "code",
   "execution_count": 173,
   "metadata": {},
   "outputs": [
    {
     "data": {
      "text/plain": [
       "342"
      ]
     },
     "execution_count": 173,
     "metadata": {},
     "output_type": "execute_result"
    }
   ],
   "source": [
    "word2index['intelligence']"
   ]
  },
  {
   "cell_type": "code",
   "execution_count": 174,
   "metadata": {},
   "outputs": [
    {
     "data": {
      "text/plain": [
       "['intelligence',\n",
       " 'artificial',\n",
       " 'collective',\n",
       " 'metaphor',\n",
       " 'interests',\n",
       " 'general',\n",
       " 'interaction',\n",
       " 'defense',\n",
       " 'act',\n",
       " 'consciousness']"
      ]
     },
     "execution_count": 174,
     "metadata": {},
     "output_type": "execute_result"
    }
   ],
   "source": [
    "top_k_most_similar(342, 10)"
   ]
  },
  {
   "cell_type": "markdown",
   "metadata": {},
   "source": [
    "#### t-SNE visualization\n",
    "To use the t-SNE code below, first put a list of the top 1000 words (as strings) into a variable `words_top_ted`. The following code gets the corresponding vectors from the model, assuming it's called `model_ted`:"
   ]
  },
  {
   "cell_type": "code",
   "execution_count": 175,
   "metadata": {},
   "outputs": [],
   "source": [
    "# This assumes words_top_ted is a list of strings, the top 1000 words\n",
    "words_top_ted = [x[0] for x in counts.most_common(1000)]\n",
    "words_top_vec_ted = model_ted[words_top_ted]"
   ]
  },
  {
   "cell_type": "code",
   "execution_count": 176,
   "metadata": {
    "collapsed": true
   },
   "outputs": [],
   "source": [
    "from sklearn.manifold import TSNE\n",
    "tsne = TSNE(n_components=2, random_state=0)\n",
    "words_top_ted_tsne = tsne.fit_transform(weights)\n",
    "words_for_weights = [index2word[x] for x in range(len(index2word))]"
   ]
  },
  {
   "cell_type": "code",
   "execution_count": 177,
   "metadata": {},
   "outputs": [
    {
     "data": {
      "text/html": [
       "\n",
       "\n",
       "    <div class=\"bk-root\">\n",
       "        <div class=\"bk-plotdiv\" id=\"9cb74913-d9c2-4e08-9d73-379685acea9e\"></div>\n",
       "    </div>\n",
       "<script type=\"text/javascript\">\n",
       "  \n",
       "  (function(global) {\n",
       "    function now() {\n",
       "      return new Date();\n",
       "    }\n",
       "  \n",
       "    var force = false;\n",
       "  \n",
       "    if (typeof (window._bokeh_onload_callbacks) === \"undefined\" || force === true) {\n",
       "      window._bokeh_onload_callbacks = [];\n",
       "      window._bokeh_is_loading = undefined;\n",
       "    }\n",
       "  \n",
       "  \n",
       "    \n",
       "    if (typeof (window._bokeh_timeout) === \"undefined\" || force === true) {\n",
       "      window._bokeh_timeout = Date.now() + 0;\n",
       "      window._bokeh_failed_load = false;\n",
       "    }\n",
       "  \n",
       "    var NB_LOAD_WARNING = {'data': {'text/html':\n",
       "       \"<div style='background-color: #fdd'>\\n\"+\n",
       "       \"<p>\\n\"+\n",
       "       \"BokehJS does not appear to have successfully loaded. If loading BokehJS from CDN, this \\n\"+\n",
       "       \"may be due to a slow or bad network connection. Possible fixes:\\n\"+\n",
       "       \"</p>\\n\"+\n",
       "       \"<ul>\\n\"+\n",
       "       \"<li>re-rerun `output_notebook()` to attempt to load from CDN again, or</li>\\n\"+\n",
       "       \"<li>use INLINE resources instead, as so:</li>\\n\"+\n",
       "       \"</ul>\\n\"+\n",
       "       \"<code>\\n\"+\n",
       "       \"from bokeh.resources import INLINE\\n\"+\n",
       "       \"output_notebook(resources=INLINE)\\n\"+\n",
       "       \"</code>\\n\"+\n",
       "       \"</div>\"}};\n",
       "  \n",
       "    function display_loaded() {\n",
       "      if (window.Bokeh !== undefined) {\n",
       "        var el = document.getElementById(\"9cb74913-d9c2-4e08-9d73-379685acea9e\");\n",
       "        el.textContent = \"BokehJS \" + Bokeh.version + \" successfully loaded.\";\n",
       "      } else if (Date.now() < window._bokeh_timeout) {\n",
       "        setTimeout(display_loaded, 100)\n",
       "      }\n",
       "    }\n",
       "  \n",
       "    function run_callbacks() {\n",
       "      window._bokeh_onload_callbacks.forEach(function(callback) { callback() });\n",
       "      delete window._bokeh_onload_callbacks\n",
       "      console.info(\"Bokeh: all callbacks have finished\");\n",
       "    }\n",
       "  \n",
       "    function load_libs(js_urls, callback) {\n",
       "      window._bokeh_onload_callbacks.push(callback);\n",
       "      if (window._bokeh_is_loading > 0) {\n",
       "        console.log(\"Bokeh: BokehJS is being loaded, scheduling callback at\", now());\n",
       "        return null;\n",
       "      }\n",
       "      if (js_urls == null || js_urls.length === 0) {\n",
       "        run_callbacks();\n",
       "        return null;\n",
       "      }\n",
       "      console.log(\"Bokeh: BokehJS not loaded, scheduling load and callback at\", now());\n",
       "      window._bokeh_is_loading = js_urls.length;\n",
       "      for (var i = 0; i < js_urls.length; i++) {\n",
       "        var url = js_urls[i];\n",
       "        var s = document.createElement('script');\n",
       "        s.src = url;\n",
       "        s.async = false;\n",
       "        s.onreadystatechange = s.onload = function() {\n",
       "          window._bokeh_is_loading--;\n",
       "          if (window._bokeh_is_loading === 0) {\n",
       "            console.log(\"Bokeh: all BokehJS libraries loaded\");\n",
       "            run_callbacks()\n",
       "          }\n",
       "        };\n",
       "        s.onerror = function() {\n",
       "          console.warn(\"failed to load library \" + url);\n",
       "        };\n",
       "        console.log(\"Bokeh: injecting script tag for BokehJS library: \", url);\n",
       "        document.getElementsByTagName(\"head\")[0].appendChild(s);\n",
       "      }\n",
       "    };var element = document.getElementById(\"9cb74913-d9c2-4e08-9d73-379685acea9e\");\n",
       "    if (element == null) {\n",
       "      console.log(\"Bokeh: ERROR: autoload.js configured with elementid '9cb74913-d9c2-4e08-9d73-379685acea9e' but no matching script tag was found. \")\n",
       "      return false;\n",
       "    }\n",
       "  \n",
       "    var js_urls = [];\n",
       "  \n",
       "    var inline_js = [\n",
       "      function(Bokeh) {\n",
       "        (function() {\n",
       "          var fn = function() {\n",
       "            var docs_json = {\"ed993b61-c45f-403d-befa-241bd54bd239\":{\"roots\":{\"references\":[{\"attributes\":{\"fill_color\":{\"value\":\"#1f77b4\"},\"line_color\":{\"value\":\"#1f77b4\"},\"size\":{\"units\":\"screen\",\"value\":8},\"x\":{\"field\":\"x1\"},\"y\":{\"field\":\"x2\"}},\"id\":\"e6391bfe-49eb-4dcc-a7b2-3bac52f9183b\",\"type\":\"Circle\"},{\"attributes\":{\"plot\":null,\"text\":\"word2vec T-SNE for most common words\"},\"id\":\"0d6c87cb-b0ec-49e9-9bcb-2b1e77b847cf\",\"type\":\"Title\"},{\"attributes\":{},\"id\":\"729fbfce-07cc-4535-a1a2-c4b2f7299a1d\",\"type\":\"BasicTickFormatter\"},{\"attributes\":{},\"id\":\"2d4e8c0d-f803-48cb-8deb-16f5f8d9cd25\",\"type\":\"BasicTicker\"},{\"attributes\":{},\"id\":\"e2048588-fff2-4384-a6e1-90dcc415a023\",\"type\":\"BasicTickFormatter\"},{\"attributes\":{\"callback\":null},\"id\":\"4f9b05f5-aacc-46e3-8ea2-fec930b4dbd3\",\"type\":\"DataRange1d\"},{\"attributes\":{\"plot\":{\"id\":\"b0902e08-d973-44bb-b8e8-8efc2d93f1c4\",\"subtype\":\"Figure\",\"type\":\"Plot\"}},\"id\":\"093925bf-5679-40c7-b6ac-23ff62570fc9\",\"type\":\"PanTool\"},{\"attributes\":{\"plot\":{\"id\":\"b0902e08-d973-44bb-b8e8-8efc2d93f1c4\",\"subtype\":\"Figure\",\"type\":\"Plot\"},\"ticker\":{\"id\":\"2d4e8c0d-f803-48cb-8deb-16f5f8d9cd25\",\"type\":\"BasicTicker\"}},\"id\":\"5461f0a3-0b3e-4781-aeca-de2d945c43d0\",\"type\":\"Grid\"},{\"attributes\":{\"formatter\":{\"id\":\"e2048588-fff2-4384-a6e1-90dcc415a023\",\"type\":\"BasicTickFormatter\"},\"plot\":{\"id\":\"b0902e08-d973-44bb-b8e8-8efc2d93f1c4\",\"subtype\":\"Figure\",\"type\":\"Plot\"},\"ticker\":{\"id\":\"2d4e8c0d-f803-48cb-8deb-16f5f8d9cd25\",\"type\":\"BasicTicker\"}},\"id\":\"19f64d72-c2a4-4877-bf17-2ce88a41b272\",\"type\":\"LinearAxis\"},{\"attributes\":{\"plot\":{\"id\":\"b0902e08-d973-44bb-b8e8-8efc2d93f1c4\",\"subtype\":\"Figure\",\"type\":\"Plot\"}},\"id\":\"71f4a780-7e82-4ac6-a6ed-50e7b9e6ae5b\",\"type\":\"WheelZoomTool\"},{\"attributes\":{\"plot\":{\"id\":\"b0902e08-d973-44bb-b8e8-8efc2d93f1c4\",\"subtype\":\"Figure\",\"type\":\"Plot\"}},\"id\":\"b160b904-0594-4b18-9e06-154cc6f7a17a\",\"type\":\"ResetTool\"},{\"attributes\":{\"below\":[{\"id\":\"19f64d72-c2a4-4877-bf17-2ce88a41b272\",\"type\":\"LinearAxis\"}],\"left\":[{\"id\":\"5f812abd-838a-4952-bb54-afa778ccffae\",\"type\":\"LinearAxis\"}],\"renderers\":[{\"id\":\"19f64d72-c2a4-4877-bf17-2ce88a41b272\",\"type\":\"LinearAxis\"},{\"id\":\"5461f0a3-0b3e-4781-aeca-de2d945c43d0\",\"type\":\"Grid\"},{\"id\":\"5f812abd-838a-4952-bb54-afa778ccffae\",\"type\":\"LinearAxis\"},{\"id\":\"6c1f14cb-61af-4e11-94e8-1131a22599ac\",\"type\":\"Grid\"},{\"id\":\"8eaddbcc-4172-4420-943a-e31510cd77c2\",\"type\":\"GlyphRenderer\"},{\"id\":\"c9832b36-8807-41db-94e5-290f0a91de2e\",\"type\":\"LabelSet\"}],\"title\":{\"id\":\"0d6c87cb-b0ec-49e9-9bcb-2b1e77b847cf\",\"type\":\"Title\"},\"tool_events\":{\"id\":\"c01d3442-f01d-4a60-b2d4-827ca1c85143\",\"type\":\"ToolEvents\"},\"toolbar\":{\"id\":\"5750e4fd-8439-40af-a4ae-85fd2225dab9\",\"type\":\"Toolbar\"},\"toolbar_location\":\"above\",\"x_range\":{\"id\":\"539d1f7d-919b-41ad-86a3-bc3422ab1296\",\"type\":\"DataRange1d\"},\"y_range\":{\"id\":\"4f9b05f5-aacc-46e3-8ea2-fec930b4dbd3\",\"type\":\"DataRange1d\"}},\"id\":\"b0902e08-d973-44bb-b8e8-8efc2d93f1c4\",\"subtype\":\"Figure\",\"type\":\"Plot\"},{\"attributes\":{\"plot\":{\"id\":\"b0902e08-d973-44bb-b8e8-8efc2d93f1c4\",\"subtype\":\"Figure\",\"type\":\"Plot\"}},\"id\":\"b3a84627-a4d6-4942-afff-6a5dd8e204b5\",\"type\":\"SaveTool\"},{\"attributes\":{\"data_source\":{\"id\":\"fd2567c1-5c9a-4f25-9b78-88f3f9b03a8a\",\"type\":\"ColumnDataSource\"},\"glyph\":{\"id\":\"e6391bfe-49eb-4dcc-a7b2-3bac52f9183b\",\"type\":\"Circle\"},\"hover_glyph\":null,\"muted_glyph\":null,\"nonselection_glyph\":{\"id\":\"cfad3538-dd99-44e1-bae3-5df7668c2475\",\"type\":\"Circle\"},\"selection_glyph\":null},\"id\":\"8eaddbcc-4172-4420-943a-e31510cd77c2\",\"type\":\"GlyphRenderer\"},{\"attributes\":{\"fill_alpha\":{\"value\":0.1},\"fill_color\":{\"value\":\"#1f77b4\"},\"line_alpha\":{\"value\":0.1},\"line_color\":{\"value\":\"#1f77b4\"},\"size\":{\"units\":\"screen\",\"value\":8},\"x\":{\"field\":\"x1\"},\"y\":{\"field\":\"x2\"}},\"id\":\"cfad3538-dd99-44e1-bae3-5df7668c2475\",\"type\":\"Circle\"},{\"attributes\":{\"callback\":null,\"column_names\":[\"x1\",\"x2\",\"names\"],\"data\":{\"names\":[\"battery\",\"molecule\",\"look\",\"20th\",\"beings\",\"cycle\",\"greater\",\"bubble\",\"co2\",\"eating\",\"addition\",\"head\",\"law\",\"practice\",\"ancient\",\"drawing\",\"radio\",\"fish\",\"mom\",\"why\",\"perception\",\"feet\",\"cancer\",\"released\",\"colors\",\"wasn\",\"dead\",\"fascinating\",\"talked\",\"differently\",\"congress\",\"form\",\"extra\",\"markets\",\"0\",\"restaurant\",\"return\",\"calling\",\"designer\",\"shapes\",\"mostly\",\"moved\",\"set\",\"artificial\",\"his\",\"recognize\",\"meat\",\"happening\",\"experiments\",\"peace\",\"houses\",\"inner\",\"side\",\"inequality\",\"respond\",\"desire\",\"anyway\",\"button\",\"according\",\"benefits\",\"various\",\"manage\",\"genetic\",\"jobs\",\"israel\",\"los\",\"visible\",\"materials\",\"email\",\"western\",\"lie\",\"version\",\"flies\",\"china\",\"vision\",\"issues\",\"intellectual\",\"election\",\"great\",\"recent\",\"education\",\"thinking\",\"bacteria\",\"act\",\"point\",\"published\",\"guess\",\"architecture\",\"reduce\",\"foreign\",\"ride\",\"wars\",\"themselves\",\"baby\",\"anti\",\"speed\",\"flat\",\"allows\",\"tech\",\"considered\",\"70\",\"discovered\",\"city\",\"coral\",\"sold\",\"creative\",\"lived\",\"text\",\"giving\",\"always\",\"bodies\",\"music\",\"individuals\",\"credit\",\"fire\",\"never\",\"convince\",\"countries\",\"please\",\"trouble\",\"fishing\",\"devices\",\"context\",\"definitely\",\"thousand\",\"focus\",\"elements\",\"damage\",\"computer\",\"increased\",\"dark\",\"listen\",\"wake\",\"species\",\"dollar\",\"prime\",\"governments\",\"window\",\"over\",\"cannot\",\"africa\",\"showed\",\"state\",\"day\",\"grandmother\",\"windows\",\"got\",\"afford\",\"tissue\",\"fourth\",\"amazon\",\"survival\",\"moments\",\"factory\",\"oil\",\"address\",\"draw\",\"recently\",\"characters\",\"covered\",\"states\",\"trillion\",\"coming\",\"currently\",\"existence\",\"further\",\"n\",\"mention\",\"photo\",\"action\",\"roof\",\"degrees\",\"everything\",\"protection\",\"attacks\",\"series\",\"lack\",\"agree\",\"blocks\",\"better\",\"believe\",\"print\",\"miss\",\"components\",\"tree\",\"australia\",\"library\",\"medical\",\"onto\",\"england\",\"ok\",\"clinical\",\"fact\",\"flag\",\"victims\",\"security\",\"capital\",\"being\",\"already\",\"helps\",\"due\",\"thousands\",\"industrial\",\"capture\",\"turning\",\"her\",\"happens\",\"businesses\",\"jump\",\"tens\",\"received\",\"wanted\",\"dogs\",\"happy\",\"however\",\"telling\",\"friends\",\"hand\",\"working\",\"gets\",\"area\",\"union\",\"singing\",\"color\",\"felt\",\"mistakes\",\"map\",\"although\",\"noise\",\"helping\",\"partners\",\"fast\",\"neighbors\",\"puts\",\"mass\",\"notes\",\"business\",\"essentially\",\"mothers\",\"went\",\"yet\",\"mark\",\"virtual\",\"leg\",\"dramatic\",\"largest\",\"idea\",\"paint\",\"steve\",\"camera\",\"employees\",\"engine\",\"uses\",\"market\",\"cell\",\"mile\",\"come\",\"organs\",\"too\",\"mechanical\",\"buy\",\"turned\",\"unfortunately\",\"incredibly\",\"ah\",\"best\",\"boys\",\"thank\",\"reality\",\"apply\",\"line\",\"brilliant\",\"yourself\",\"giant\",\"understanding\",\"normal\",\"simply\",\"collected\",\"whole\",\"believed\",\"explain\",\"frame\",\"exist\",\"taken\",\"stress\",\"relevant\",\"finish\",\"ocean\",\"anyone\",\"carefully\",\"explained\",\"topic\",\"selling\",\"funding\",\"needed\",\"issue\",\"shared\",\"healthy\",\"engineers\",\"intelligent\",\"neighborhood\",\"choose\",\"nothing\",\"others\",\"institution\",\"high\",\"front\",\"cross\",\"meaningful\",\"aging\",\"necessarily\",\"valley\",\"different\",\"liquid\",\"effective\",\"words\",\"youtube\",\"24\",\"player\",\"seconds\",\"park\",\"young\",\"humans\",\"democracy\",\"everyday\",\"kind\",\"organizations\",\"property\",\"difficult\",\"early\",\"sports\",\"setting\",\"lies\",\"ideas\",\"positive\",\"decided\",\"separate\",\"fairly\",\"empathy\",\"sleep\",\"per\",\"shape\",\"intelligence\",\"safety\",\"performance\",\"america\",\"cat\",\"option\",\"software\",\"shame\",\"fantastic\",\"quiet\",\"army\",\"alternative\",\"mental\",\"develop\",\"predict\",\"check\",\"behavior\",\"versus\",\"gotten\",\"capable\",\"testing\",\"partner\",\"feel\",\"university\",\"points\",\"extremely\",\"particles\",\"period\",\"17\",\"airplane\",\"studio\",\"yes\",\"atoms\",\"practical\",\"ground\",\"cultures\",\"sign\",\"heart\",\"matter\",\"used\",\"cheap\",\"wish\",\"fashion\",\"yesterday\",\"result\",\"fundamentally\",\"voices\",\"interaction\",\"prize\",\"existing\",\"expression\",\"students\",\"regions\",\"lose\",\"illegal\",\"economic\",\"videos\",\"created\",\"metal\",\"fit\",\"names\",\"hasn\",\"anything\",\"cave\",\"involved\",\"inspiration\",\"critical\",\"fell\",\"cultural\",\"moving\",\"bone\",\"breath\",\"communities\",\"compare\",\"court\",\"concept\",\"labor\",\"apart\",\"creates\",\"site\",\"shot\",\"showing\",\"wall\",\"while\",\"associated\",\"invented\",\"ultimate\",\"urban\",\"terms\",\"written\",\"event\",\"voice\",\"lunch\",\"sees\",\"female\",\"speech\",\"meters\",\"awful\",\"figured\",\"needs\",\"compared\",\"present\",\"lots\",\"health\",\"website\",\"basis\",\"discovery\",\"150\",\"analysis\",\"second\",\"pressure\",\"three\",\"faith\",\"fix\",\"electrical\",\"video\",\"scientific\",\"store\",\"minister\",\"potential\",\"dynamic\",\"house\",\"francisco\",\"launched\",\"seeing\",\"changes\",\"little\",\"flight\",\"religious\",\"minute\",\"london\",\"fiction\",\"finally\",\"faces\",\"joke\",\"oxygen\",\"rich\",\"rid\",\"military\",\"environmental\",\"consumption\",\"metaphor\",\"standing\",\"helped\",\"dog\",\"forth\",\"blind\",\"chicago\",\"children\",\"likely\",\"streets\",\"journey\",\"loss\",\"design\",\"complete\",\"access\",\"processing\",\"images\",\"passion\",\"character\",\"2000\",\"real\",\"race\",\"hits\",\"explore\",\"say\",\"holes\",\"send\",\"since\",\"closer\",\"expect\",\"died\",\"transform\",\"justice\",\"relative\",\"schools\",\"professional\",\"seem\",\"taught\",\"solving\",\"held\",\"table\",\"anybody\",\"cause\",\"grown\",\"7\",\"may\",\"does\",\"dinner\",\"sequence\",\"holding\",\"evidence\",\"fully\",\"match\",\"except\",\"bed\",\"hide\",\"reason\",\"principle\",\"ted\",\"leaving\",\"getting\",\"doesn\",\"admit\",\"looking\",\"learning\",\"crowd\",\"decisions\",\"count\",\"planets\",\"colleagues\",\"transportation\",\"pounds\",\"maybe\",\"importantly\",\"5\",\"soon\",\"electric\",\"nobody\",\"student\",\"certainly\",\"built\",\"broke\",\"upper\",\"says\",\"wisdom\",\"worst\",\"autism\",\"article\",\"central\",\"brought\",\"former\",\"2010\",\"drink\",\"correct\",\"floor\",\"etc\",\"opportunity\",\"la\",\"stars\",\"affected\",\"coast\",\"man\",\"management\",\"signs\",\"weird\",\"applied\",\"dropped\",\"engineering\",\"summer\",\"spoke\",\"aware\",\"folks\",\"planning\",\"david\",\"bring\",\"unlike\",\"low\",\"driver\",\"move\",\"spaces\",\"deliver\",\"thought\",\"spent\",\"james\",\"physical\",\"technology\",\"genes\",\"pretty\",\"landscape\",\"roll\",\"driving\",\"usually\",\"fields\",\"notice\",\"forces\",\"skin\",\"games\",\"college\",\"drive\",\"30\",\"original\",\"seriously\",\"treat\",\"sit\",\"boston\",\"rare\",\"robot\",\"ecosystem\",\"pages\",\"slide\",\"birth\",\"vaccine\",\"mit\",\"teacher\",\"sexual\",\"greatest\",\"far\",\"trick\",\"behind\",\"risks\",\"pick\",\"code\",\"focused\",\"capacity\",\"comfortable\",\"d\",\"begins\",\"service\",\"earth\",\"ordinary\",\"20\",\"regular\",\"war\",\"spectrum\",\"worlds\",\"disease\",\"decades\",\"began\",\"round\",\"become\",\"sick\",\"phenomenon\",\"stem\",\"mouse\",\"records\",\"band\",\"10\",\"4\",\"marriage\",\"coal\",\"evolution\",\"ones\",\"medium\",\"variety\",\"actual\",\"hair\",\"interface\",\"read\",\"late\",\"study\",\"goal\",\"convinced\",\"survey\",\"flow\",\"keeps\",\"difference\",\"chris\",\"biology\",\"raise\",\"start\",\"possibilities\",\"dream\",\"photographs\",\"aren\",\"caught\",\"device\",\"eat\",\"lessons\",\"private\",\"followed\",\"building\",\"exercise\",\"sentence\",\"often\",\"spread\",\"designed\",\"dollars\",\"girl\",\"sing\",\"protein\",\"introduced\",\"developed\",\"nearly\",\"organization\",\"even\",\"record\",\"islands\",\"notion\",\"parents\",\"significant\",\"innovative\",\"electricity\",\"situation\",\"germany\",\"diseases\",\"accident\",\"35\",\"link\",\"paul\",\"oh\",\"drug\",\"traffic\",\"experts\",\"beginning\",\"wild\",\"wide\",\"north\",\"kitchen\",\"demand\",\"exchange\",\"running\",\"sub\",\"times\",\"useful\",\"contact\",\"decide\",\"attention\",\"friend\",\"advanced\",\"complexity\",\"spring\",\"play\",\"surprising\",\"responsible\",\"photos\",\"plan\",\"cars\",\"brand\",\"introduce\",\"actions\",\"familiar\",\"boy\",\"politics\",\"leaves\",\"responsibility\",\"starts\",\"poem\",\"politicians\",\"driven\",\"buying\",\"career\",\"major\",\"rain\",\"temperature\",\"factor\",\"party\",\"centers\",\"final\",\"extreme\",\"pass\",\"iraq\",\"pulled\",\"lady\",\"learned\",\"connected\",\"use\",\"experienced\",\"grade\",\"chinese\",\"release\",\"despite\",\"its\",\"poor\",\"suggest\",\"standard\",\"identify\",\"living\",\"marketing\",\"players\",\"painting\",\"grid\",\"along\",\"tonight\",\"burning\",\"mistake\",\"daily\",\"myself\",\"trees\",\"walking\",\"watching\",\"sat\",\"perspective\",\"relatively\",\"father\",\"nervous\",\"weren\",\"leader\",\"forests\",\"typically\",\"feed\",\"give\",\"surprise\",\"hall\",\"screen\",\"crisis\",\"quantum\",\"production\",\"rules\",\"humanity\",\"9\",\"projects\",\"brings\",\"travel\",\"coffee\",\"aids\",\"feeling\",\"less\",\"older\",\"debate\",\"eight\",\"rates\",\"land\",\"forced\",\"democratic\",\"reaction\",\"growth\",\"secret\",\"fresh\",\"process\",\"join\",\"whatever\",\"marine\",\"nation\",\"view\",\"effectively\",\"guys\",\"total\",\"budget\",\"yellow\",\"previous\",\"events\",\"glass\",\"loved\",\"kids\",\"trained\",\"price\",\"gone\",\"find\",\"civilization\",\"instrument\",\"dreams\",\"vote\",\"computing\",\"laws\",\"excited\",\"requires\",\"remote\",\"societies\",\"school\",\"numbers\",\"ice\",\"vast\",\"information\",\"destruction\",\"60\",\"beach\",\"complex\",\"hard\",\"brain\",\"word\",\"simple\",\"forest\",\"easy\",\"fun\",\"chemistry\",\"c\",\"falling\",\"daughter\",\"course\",\"many\",\"told\",\"none\",\"content\",\"entrepreneurs\",\"enough\",\"otherwise\",\"framework\",\"beauty\",\"open\",\"ultimately\",\"grew\",\"happiness\",\"include\",\"manufacturing\",\"push\",\"experiment\",\"conversation\",\"personal\",\"technological\",\"wave\",\"everybody\",\"village\",\"shark\",\"tools\",\"today\",\"continent\",\"levels\",\"carry\",\"chair\",\"opened\",\"identity\",\"brother\",\"defined\",\"good\",\"within\",\"failure\",\"express\",\"amounts\",\"husband\",\"invest\",\"joined\",\"ladies\",\"resolution\",\"solve\",\"generally\",\"met\",\"quote\",\"emotions\",\"appear\",\"areas\",\"water\",\"sharks\",\"empty\",\"inside\",\"becoming\",\"keeping\",\"clock\",\"fill\",\"movies\",\"personally\",\"radical\",\"represents\",\"accurate\",\"networks\",\"arts\",\"type\",\"gdp\",\"horrible\",\"80\",\"hundreds\",\"belief\",\"saving\",\"forever\",\"supply\",\"main\",\"ran\",\"costs\",\"weather\",\"feedback\",\"making\",\"crazy\",\"mother\",\"trial\",\"especially\",\"touch\",\"valuable\",\"fair\",\"massive\",\"general\",\"arms\",\"game\",\"o\",\"importance\",\"energy\",\"highest\",\"pain\",\"clearly\",\"march\",\"consider\",\"finance\",\"collect\",\"back\",\"human\",\"name\",\"literally\",\"rather\",\"message\",\"tough\",\"de\",\"traveling\",\"news\",\"tell\",\"big\",\"math\",\"europe\",\"meeting\",\"alone\",\"generate\",\"45\",\"museum\",\"policy\",\"fewer\",\"truth\",\"sort\",\"india\",\"able\",\"paid\",\"99\",\"individual\",\"took\",\"pole\",\"multiple\",\"unless\",\"row\",\"heard\",\"indeed\",\"ship\",\"bought\",\"constantly\",\"gift\",\"billions\",\"tried\",\"similar\",\"clear\",\"advantage\",\"exactly\",\"old\",\"success\",\"willing\",\"tradition\",\"bad\",\"violent\",\"bird\",\"meant\",\"organic\",\"digital\",\"saved\",\"slowly\",\"smile\",\"shown\",\"moral\",\"free\",\"depression\",\"corruption\",\"inspired\",\"allowed\",\"gas\",\"unusual\",\"zero\",\"letter\",\"details\",\"emerging\",\"smaller\",\"lives\",\"field\",\"language\",\"literature\",\"parking\",\"imagine\",\"wonderful\",\"sustainable\",\"remarkable\",\"breast\",\"visit\",\"galaxy\",\"off\",\"group\",\"corner\",\"church\",\"differences\",\"job\",\"region\",\"memories\",\"essential\",\"defense\",\"possibility\",\"caused\",\"prove\",\"earlier\",\"dimensions\",\"win\",\"wait\",\"reach\",\"causes\",\"muslim\",\"station\",\"change\",\"beautiful\",\"knowledge\",\"spirit\",\"vehicles\",\"suddenly\",\"feels\",\"ahead\",\"planet\",\"power\",\"sharing\",\"expected\",\"worth\",\"population\",\"realized\",\"adult\",\"mechanism\",\"wants\",\"before\",\"trials\",\"hours\",\"fine\",\"revolution\",\"himself\",\"tested\",\"collaboration\",\"killed\",\"adults\",\"among\",\"resistance\",\"harder\",\"perfect\",\"cells\",\"microbes\",\"popular\",\"guy\",\"fat\",\"basic\",\"stuff\",\"target\",\"minutes\",\"speaking\",\"sending\",\"grow\",\"necessary\",\"slightly\",\"avoid\",\"later\",\"3\",\"financial\",\"mars\",\"acting\",\"down\",\"techniques\",\"oceans\",\"top\",\"lab\",\"suffering\",\"moment\",\"key\",\"evil\",\"epidemic\",\"organisms\",\"cure\",\"liked\",\"wife\",\"afraid\",\"google\",\"born\",\"worry\",\"brothers\",\"given\",\"brown\",\"somehow\",\"tiny\",\"creating\",\"model\",\"risk\",\"carrying\",\"hot\",\"french\",\"shaped\",\"consciousness\",\"flying\",\"conference\",\"evolved\",\"everyone\",\"washington\",\"smart\",\"whether\",\"town\",\"era\",\"homes\",\"die\",\"warm\",\"through\",\"11\",\"robots\",\"interests\",\"thinks\",\"instance\",\"effects\",\"plane\",\"conditions\",\"seemed\",\"illness\",\"collective\",\"door\",\"engineer\",\"european\",\"hope\",\"movement\",\"funny\",\"cities\",\"report\",\"mirror\",\"normally\",\"works\",\"solar\",\"asked\",\"together\",\"thing\",\"staff\",\"southern\",\"location\",\"women\",\"machines\",\"services\",\"nor\",\"universal\",\"pop\",\"century\",\"strange\",\"angry\",\"finger\",\"block\",\"conclusion\",\"hotel\",\"support\",\"gender\",\"poverty\",\"attack\",\"resource\",\"chemicals\",\"taking\",\"hands\",\"happen\",\"families\",\"construction\",\"talks\",\"else\",\"generation\",\"e\",\"title\",\"several\",\"called\",\"clothes\",\"bigger\",\"direct\",\"efficiency\",\"universe\",\"having\",\"6\",\"sometimes\",\"sector\",\"studying\",\"13\",\"modern\",\"measure\",\"white\",\"straight\",\"care\",\"evolutionary\",\"isn\",\"flu\",\"awesome\",\"putting\",\"patient\",\"incredible\",\"photograph\",\"country\",\"sure\",\"live\",\"room\",\"lot\",\"solutions\",\"did\",\"doubt\",\"tons\",\"disaster\",\"sum\",\"phone\",\"civil\",\"term\",\"whenever\",\"aid\",\"soil\",\"symptoms\",\"gap\",\"track\",\"truly\",\"achieve\",\"asking\",\"1\",\"community\",\"than\",\"body\",\"favorite\",\"starting\",\"describe\",\"non\",\"equality\",\"ready\",\"san\",\"producing\",\"activities\",\"values\",\"hurt\",\"solution\",\"keep\",\"2\",\"threat\",\"super\",\"male\",\"harvard\",\"during\",\"einstein\",\"named\",\"past\",\"rest\",\"remind\",\"throughout\",\"da\",\"designing\",\"programs\",\"medicine\",\"road\",\"doctor\",\"new\",\"sent\",\"worldwide\",\"companies\",\"narrative\",\"long\",\"definition\",\"allow\",\"remain\",\"mobile\",\"method\",\"pull\",\"between\",\"science\",\"therapy\",\"depends\",\"status\",\"west\",\"only\",\"competition\",\"steps\",\"serious\",\"conscious\",\"itself\",\"platform\",\"artists\",\"add\",\"eventually\",\"those\",\"nature\",\"walk\",\"products\",\"equipment\",\"professor\",\"tremendous\",\"east\",\"freedom\",\"married\",\"sex\",\"collection\",\"interest\",\"lead\",\"street\",\"grand\",\"ask\",\"degree\",\"reached\",\"rise\",\"break\",\"desert\",\"research\",\"eye\",\"share\",\"case\",\"mid\",\"motion\",\"image\",\"poetry\",\"primary\",\"runs\",\"criminal\",\"history\",\"relationship\",\"sky\",\"happened\",\"meet\",\"each\",\"teeth\",\"whom\",\"profound\",\"treated\",\"gave\",\"exploration\",\"effort\",\"heads\",\"al\",\"toward\",\"magazine\",\"r\",\"space\",\"realize\",\"money\",\"surface\",\"behaviors\",\"network\",\"much\",\"completely\",\"galaxies\",\"connections\",\"child\",\"tumor\",\"afternoon\",\"tomorrow\",\"yeah\",\"neurons\",\"gain\",\"international\",\"imagination\",\"resources\",\"motor\",\"force\",\"turns\",\"american\",\"conservation\",\"exists\",\"connect\",\"work\",\"hospital\",\"mr\",\"without\",\"france\",\"directly\",\"connection\",\"purpose\",\"closed\",\"found\",\"languages\",\"section\",\"nice\",\"2008\",\"upon\",\"island\",\"stage\",\"most\",\"need\",\"ll\",\"culture\",\"spending\",\"opposite\",\"impact\",\"finished\",\"finding\",\"sorts\",\"bees\",\"still\",\"public\",\"mentioned\",\"shows\",\"bank\",\"sources\",\"program\",\"matters\",\"part\",\"entirely\",\"six\",\"grandfather\",\"close\",\"providing\",\"conversations\",\"unit\",\"stand\",\"problem\",\"detail\",\"25\",\"canada\",\"institute\",\"computers\",\"future\",\"compassion\",\"operating\",\"bear\",\"double\",\"quickly\",\"couple\",\"limited\",\"african\",\"signal\",\"feelings\",\"clean\",\"hold\",\"doing\",\"soldiers\",\"fuel\",\"probably\",\"british\",\"worked\",\"bright\",\"warming\",\"highly\",\"negative\",\"paper\",\"direction\",\"minds\",\"sand\",\"terrible\",\"swimming\",\"famous\",\"prevent\",\"half\",\"ago\",\"raised\",\"consequences\",\"biggest\",\"joy\",\"complicated\",\"try\",\"facts\",\"dinosaurs\",\"date\",\"pleasure\",\"small\",\"account\",\"least\",\"patients\",\"wondering\",\"activity\",\"didn\",\"transformation\",\"interested\",\"richard\",\"bomb\",\"absolute\",\"types\",\"talk\",\"environment\",\"based\",\"healthcare\",\"kenya\",\"opinion\",\"sad\",\"dealing\",\"hiv\",\"technologies\",\"reading\",\"features\",\"common\",\"managed\",\"obviously\",\"lights\",\"obvious\",\"led\",\"remember\",\"wood\",\"search\",\"promise\",\"question\",\"california\",\"age\",\"lying\",\"drugs\",\"independent\",\"list\",\"struggle\",\"perfectly\",\"any\",\"legs\",\"number\",\"produce\",\"18\",\"russia\",\"create\",\"powerful\",\"added\",\"television\",\"project\",\"hour\",\"workers\",\"circle\",\"losing\",\"200\",\"extraordinary\",\"passed\",\"done\",\"described\",\"person\",\"months\",\"large\",\"sell\",\"subject\",\"bridge\",\"system\",\"sorry\",\"okay\",\"show\",\"means\",\"cases\",\"sides\",\"potentially\",\"scene\",\"south\",\"transition\",\"sun\",\"against\",\"represent\",\"answer\",\"book\",\"wrong\",\"nations\",\"affect\",\"department\",\"mean\",\"novel\",\"function\",\"black\",\"false\",\"reward\",\"layer\",\"changing\",\"passionate\",\"malaria\",\"curious\",\"cut\",\"surgery\",\"messages\",\"hate\",\"400\",\"bit\",\"follow\",\"camp\",\"user\",\"approach\",\"two\",\"absolutely\",\"buildings\",\"amazing\",\"tend\",\"sample\",\"economics\",\"tail\",\"stood\",\"writing\",\"laboratory\",\"learn\",\"infrastructure\",\"value\",\"problems\",\"neither\",\"speak\",\"must\",\"argument\",\"proud\",\"fund\",\"another\",\"longer\",\"quick\",\"blood\",\"equal\",\"animals\",\"should\",\"seven\",\"invention\",\"entire\",\"net\",\"rapidly\",\"king\",\"moves\",\"300\",\"influence\",\"applications\",\"communication\",\"wow\",\"viruses\",\"weapons\",\"ends\",\"bang\",\"deeply\",\"somebody\",\"ever\",\"wonder\",\"quite\",\"lower\",\"16\",\"hospitals\",\"enjoy\",\"designers\",\"boxes\",\"violence\",\"card\",\"possible\",\"tests\",\"test\",\"bottle\",\"interview\",\"order\",\"month\",\"challenge\",\"surprised\",\"kept\",\"government\",\"emissions\",\"response\",\"river\",\"algorithms\",\"indian\",\"channel\",\"after\",\"recorded\",\"week\",\"graduate\",\"asia\",\"huge\",\"brains\",\"75\",\"insects\",\"film\",\"environments\",\"fall\",\"americans\",\"enter\",\"dangerous\",\"turn\",\"define\",\"lost\",\"local\",\"noticed\",\"interesting\",\"towards\",\"whose\",\"killing\",\"goes\",\"trip\",\"year\",\"weeks\",\"chemical\",\"box\",\"seen\",\"500\",\"lines\",\"launch\",\"calls\",\"40\",\"discussion\",\"company\",\"walls\",\"night\",\"girls\",\"english\",\"childhood\",\"creativity\",\"seat\",\"younger\",\"places\",\"car\",\"vulnerable\",\"bringing\",\"help\",\"investment\",\"important\",\"protect\",\"first\",\"couldn\",\"outside\",\"mexico\",\"combination\",\"listening\",\"social\",\"hit\",\"everywhere\",\"roughly\",\"playing\",\"begin\",\"teaching\",\"am\",\"step\",\"media\",\"bill\",\"fingers\",\"let\",\"once\",\"teams\",\"lay\",\"press\",\"won\",\"post\",\"known\",\"random\",\"red\",\"industry\",\"missing\",\"again\",\"doctors\",\"sensitive\",\"eyes\",\"efficient\",\"x\",\"patterns\",\"100\",\"figures\",\"few\",\"rate\",\"catch\",\"b\",\"interact\",\"u\",\"genome\",\"gun\",\"scientists\",\"muscle\",\"farmers\",\"vehicle\",\"relationships\",\"broken\",\"family\",\"stuck\",\"green\",\"every\",\"mathematical\",\"phones\",\"argue\",\"researchers\",\"same\",\"almost\",\"hadn\",\"judge\",\"invisible\",\"iran\",\"cool\",\"came\",\"ability\",\"class\",\"foundation\",\"anywhere\",\"team\",\"survive\",\"near\",\"left\",\"biological\",\"seems\",\"put\",\"discover\",\"emotional\",\"creation\",\"deeper\",\"him\",\"might\",\"walked\",\"moon\",\"50\",\"copy\",\"decision\",\"engage\",\"northern\",\"cards\",\"options\",\"deal\",\"patent\",\"thoughts\",\"role\",\"faster\",\"training\",\"united\",\"page\",\"required\",\"stupid\",\"magic\",\"beat\",\"groups\",\"percent\",\"prison\",\"foot\",\"global\",\"nasa\",\"became\",\"saw\",\"successful\",\"range\",\"sister\",\"fundamental\",\"traditional\",\"gold\",\"god\",\"ten\",\"kill\",\"available\",\"21st\",\"wrote\",\"ray\",\"privacy\",\"stop\",\"nuclear\",\"opportunities\",\"fight\",\"center\",\"increasing\",\"innovation\",\"below\",\"wouldn\",\"produced\",\"pay\",\"tells\",\"improve\",\"choice\",\"sounds\",\"last\",\"woman\",\"honor\",\"artist\",\"style\",\"continue\",\"diet\",\"organism\",\"place\",\"background\",\"dimensional\",\"knew\",\"structures\",\"following\",\"theater\",\"using\",\"save\",\"sense\",\"protected\",\"fossil\",\"cover\",\"progress\",\"increase\",\"suppose\",\"books\",\"climate\",\"played\",\"swim\",\"fighting\",\"weight\",\"memory\",\"cold\",\"rural\",\"related\",\"made\",\"trying\",\"piece\",\"gay\",\"full\",\"true\",\"nine\",\"charge\",\"britain\",\"tv\",\"goals\",\"opening\",\"certain\",\"experiences\",\"mouth\",\"questions\",\"under\",\"terrorism\",\"k\",\"equivalent\",\"teach\",\"saying\",\"haven\",\"hearing\",\"example\",\"perform\",\"away\",\"changed\",\"men\",\"tool\",\"middle\",\"maps\",\"birds\",\"dry\",\"arab\",\"john\",\"chicken\",\"task\",\"data\",\"george\",\"switch\",\"15\",\"both\",\"hundred\",\"balance\",\"society\",\"trade\",\"properties\",\"ways\",\"choices\",\"including\",\"leads\",\"knows\",\"position\",\"meaning\",\"active\",\"plant\",\"mind\",\"graph\",\"audience\",\"heavy\",\"square\",\"spend\",\"build\",\"knowing\",\"arrived\",\"bits\",\"participate\",\"larger\",\"board\",\"thanks\",\"curve\",\"deep\",\"invited\",\"shift\",\"home\",\"run\",\"radiation\",\"looked\",\"exciting\",\"four\",\"mystery\",\"pair\",\"authority\",\"looks\",\"soul\",\"somewhere\",\"unknown\",\"brazil\",\"atmosphere\",\"picture\",\"cloud\",\"hopefully\",\"shoes\",\"dance\",\"sudden\",\"forget\",\"examples\",\"million\",\"nigeria\",\"figure\",\"sites\",\"bar\",\"becomes\",\"gentlemen\",\"higher\",\"product\",\"bunch\",\"development\",\"also\",\"possibly\",\"exact\",\"600\",\"easier\",\"plus\",\"newspaper\",\"star\",\"mathematics\",\"systems\",\"stay\",\"rule\",\"structure\",\"fly\",\"creatures\",\"impossible\",\"legal\",\"winter\",\"until\",\"around\",\"stopped\",\"dr\",\"goods\",\"teachers\",\"japan\",\"provide\",\"end\",\"filled\",\"stories\",\"parts\",\"note\",\"current\",\"mission\",\"studies\",\"pieces\",\"next\",\"scientist\",\"wealth\",\"condition\",\"theory\",\"source\",\"ourselves\",\"spot\",\"therefore\",\"diversity\",\"sophisticated\",\"skills\",\"satellite\",\"ended\",\"leave\",\"forward\",\"billion\",\"enormous\",\"increasingly\",\"watch\",\"sensors\",\"technical\",\"comes\",\"amount\",\"basically\",\"organized\",\"objects\",\"religion\",\"p\",\"started\",\"above\",\"level\",\"mountain\",\"twice\",\"japanese\",\"scale\",\"refugees\",\"leaders\",\"lesson\",\"mine\",\"profit\",\"afghanistan\",\"distribution\",\"particular\",\"drop\",\"14\",\"face\",\"babies\",\"ants\",\"special\",\"communicate\",\"experience\",\"growing\",\"molecules\",\"safe\",\"single\",\"movements\",\"york\",\"kid\",\"throw\",\"emergency\",\"scared\",\"death\",\"citizens\",\"emotion\",\"processes\",\"gives\",\"developing\",\"hoping\",\"lucky\",\"letters\",\"controlled\",\"fear\",\"benefit\",\"encourage\",\"concerned\",\"facebook\",\"picked\",\"statistics\",\"ball\",\"generations\",\"paying\",\"confidence\",\"battle\",\"economy\",\"strength\",\"gravity\",\"train\",\"own\",\"90\",\"object\",\"such\",\"expensive\",\"life\",\"farm\",\"physically\",\"formed\",\"average\",\"either\",\"national\",\"air\",\"senses\",\"anymore\",\"shouldn\",\"commercial\",\"web\",\"fellow\",\"serve\",\"000\",\"alive\",\"challenges\",\"core\",\"reasons\",\"hear\",\"love\",\"size\",\"cutting\",\"leadership\",\"dna\",\"call\",\"specific\",\"physics\",\"prepared\",\"understood\",\"awareness\",\"apple\",\"stone\",\"president\",\"distance\",\"third\",\"sitting\",\"natural\",\"write\",\"challenging\",\"factors\",\"days\",\"chain\",\"story\",\"mountains\",\"son\",\"steel\",\"studied\",\"facing\",\"income\",\"telescope\",\"require\",\"typical\",\"forms\",\"gene\",\"perhaps\",\"plants\",\"five\",\"supposed\",\"stick\",\"waste\",\"decade\",\"fail\",\"kilometers\",\"someone\",\"hidden\",\"machine\",\"cognitive\",\"take\",\"mortality\",\"rights\",\"slow\",\"sugar\",\"control\",\"appreciate\",\"takes\",\"strategy\",\"crime\",\"political\",\"light\",\"talking\",\"internet\",\"parent\",\"answers\",\"respect\",\"member\",\"cost\",\"quality\",\"signals\",\"visual\",\"stronger\",\"models\",\"naturally\",\"edge\",\"song\",\"heat\",\"dad\",\"beyond\",\"food\",\"millions\",\"nose\",\"failed\",\"bush\",\"leading\",\"whereas\",\"short\",\"printing\",\"garden\",\"virus\",\"underneath\",\"replace\",\"classroom\",\"laptop\",\"conflict\",\"sound\",\"institutions\",\"zone\",\"kinds\",\"infected\",\"wind\",\"agriculture\",\"hole\",\"darwin\",\"pre\",\"wearing\",\"miles\",\"worried\",\"bus\",\"monkey\",\"results\",\"treatment\",\"animal\",\"3d\",\"8\",\"morning\",\"principles\",\"wear\",\"molecular\",\"self\",\"specifically\",\"though\",\"effect\",\"12\",\"makes\",\"trust\",\"arm\",\"watched\",\"users\",\"bread\",\"accept\",\"online\",\"campaign\",\"engaged\",\"path\",\"movie\",\"base\",\"waiting\",\"police\",\"unique\",\"office\",\"carbon\",\"easily\",\"click\",\"across\",\"particularly\",\"rock\",\"offer\",\"hell\",\"instead\",\"boat\",\"plastic\",\"blue\",\"totally\",\"situations\",\"silence\",\"pictures\",\"smell\",\"art\",\"understand\",\"twitter\",\"strong\",\"majority\",\"hey\",\"honest\",\"bottom\",\"director\",\"members\",\"cameras\",\"lifetime\",\"worse\",\"immediately\",\"sea\",\"pattern\",\"dots\",\"waves\",\"chance\",\"dying\",\"material\"],\"x1\":{\"__ndarray__\":\"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\",\"dtype\":\"float64\",\"shape\":[2400]},\"x2\":{\"__ndarray__\":\"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\",\"dtype\":\"float64\",\"shape\":[2400]}}},\"id\":\"fd2567c1-5c9a-4f25-9b78-88f3f9b03a8a\",\"type\":\"ColumnDataSource\"},{\"attributes\":{\"formatter\":{\"id\":\"729fbfce-07cc-4535-a1a2-c4b2f7299a1d\",\"type\":\"BasicTickFormatter\"},\"plot\":{\"id\":\"b0902e08-d973-44bb-b8e8-8efc2d93f1c4\",\"subtype\":\"Figure\",\"type\":\"Plot\"},\"ticker\":{\"id\":\"dba08157-4571-4588-8333-297a7ee0ff93\",\"type\":\"BasicTicker\"}},\"id\":\"5f812abd-838a-4952-bb54-afa778ccffae\",\"type\":\"LinearAxis\"},{\"attributes\":{\"active_drag\":\"auto\",\"active_scroll\":\"auto\",\"active_tap\":\"auto\",\"tools\":[{\"id\":\"093925bf-5679-40c7-b6ac-23ff62570fc9\",\"type\":\"PanTool\"},{\"id\":\"71f4a780-7e82-4ac6-a6ed-50e7b9e6ae5b\",\"type\":\"WheelZoomTool\"},{\"id\":\"b160b904-0594-4b18-9e06-154cc6f7a17a\",\"type\":\"ResetTool\"},{\"id\":\"b3a84627-a4d6-4942-afff-6a5dd8e204b5\",\"type\":\"SaveTool\"}]},\"id\":\"5750e4fd-8439-40af-a4ae-85fd2225dab9\",\"type\":\"Toolbar\"},{\"attributes\":{},\"id\":\"c01d3442-f01d-4a60-b2d4-827ca1c85143\",\"type\":\"ToolEvents\"},{\"attributes\":{},\"id\":\"dba08157-4571-4588-8333-297a7ee0ff93\",\"type\":\"BasicTicker\"},{\"attributes\":{\"plot\":{\"id\":\"b0902e08-d973-44bb-b8e8-8efc2d93f1c4\",\"subtype\":\"Figure\",\"type\":\"Plot\"},\"source\":{\"id\":\"fd2567c1-5c9a-4f25-9b78-88f3f9b03a8a\",\"type\":\"ColumnDataSource\"},\"text\":{\"field\":\"names\"},\"text_align\":\"center\",\"text_color\":{\"value\":\"#555555\"},\"text_font_size\":{\"value\":\"8pt\"},\"x\":{\"field\":\"x1\"},\"y\":{\"field\":\"x2\"},\"y_offset\":{\"value\":6}},\"id\":\"c9832b36-8807-41db-94e5-290f0a91de2e\",\"type\":\"LabelSet\"},{\"attributes\":{\"dimension\":1,\"plot\":{\"id\":\"b0902e08-d973-44bb-b8e8-8efc2d93f1c4\",\"subtype\":\"Figure\",\"type\":\"Plot\"},\"ticker\":{\"id\":\"dba08157-4571-4588-8333-297a7ee0ff93\",\"type\":\"BasicTicker\"}},\"id\":\"6c1f14cb-61af-4e11-94e8-1131a22599ac\",\"type\":\"Grid\"},{\"attributes\":{\"callback\":null},\"id\":\"539d1f7d-919b-41ad-86a3-bc3422ab1296\",\"type\":\"DataRange1d\"}],\"root_ids\":[\"b0902e08-d973-44bb-b8e8-8efc2d93f1c4\"]},\"title\":\"Bokeh Application\",\"version\":\"0.12.5\"}};\n",
       "            var render_items = [{\"docid\":\"ed993b61-c45f-403d-befa-241bd54bd239\",\"elementid\":\"9cb74913-d9c2-4e08-9d73-379685acea9e\",\"modelid\":\"b0902e08-d973-44bb-b8e8-8efc2d93f1c4\"}];\n",
       "            \n",
       "            Bokeh.embed.embed_items(docs_json, render_items);\n",
       "          };\n",
       "          if (document.readyState != \"loading\") fn();\n",
       "          else document.addEventListener(\"DOMContentLoaded\", fn);\n",
       "        })();\n",
       "      },\n",
       "      function(Bokeh) {\n",
       "      }\n",
       "    ];\n",
       "  \n",
       "    function run_inline_js() {\n",
       "      \n",
       "      if ((window.Bokeh !== undefined) || (force === true)) {\n",
       "        for (var i = 0; i < inline_js.length; i++) {\n",
       "          inline_js[i](window.Bokeh);\n",
       "        }if (force === true) {\n",
       "          display_loaded();\n",
       "        }} else if (Date.now() < window._bokeh_timeout) {\n",
       "        setTimeout(run_inline_js, 100);\n",
       "      } else if (!window._bokeh_failed_load) {\n",
       "        console.log(\"Bokeh: BokehJS failed to load within specified timeout.\");\n",
       "        window._bokeh_failed_load = true;\n",
       "      } else if (force !== true) {\n",
       "        var cell = $(document.getElementById(\"9cb74913-d9c2-4e08-9d73-379685acea9e\")).parents('.cell').data().cell;\n",
       "        cell.output_area.append_execute_result(NB_LOAD_WARNING)\n",
       "      }\n",
       "  \n",
       "    }\n",
       "  \n",
       "    if (window._bokeh_is_loading === 0) {\n",
       "      console.log(\"Bokeh: BokehJS loaded, going straight to plotting\");\n",
       "      run_inline_js();\n",
       "    } else {\n",
       "      load_libs(js_urls, function() {\n",
       "        console.log(\"Bokeh: BokehJS plotting callback run at\", now());\n",
       "        run_inline_js();\n",
       "      });\n",
       "    }\n",
       "  }(this));\n",
       "</script>"
      ]
     },
     "metadata": {},
     "output_type": "display_data"
    }
   ],
   "source": [
    "p = figure(tools=\"pan,wheel_zoom,reset,save\",\n",
    "           toolbar_location=\"above\",\n",
    "           title=\"word2vec T-SNE for most common words\")\n",
    "\n",
    "source = ColumnDataSource(data=dict(x1=words_top_ted_tsne[:,0],\n",
    "                                    x2=words_top_ted_tsne[:,1],\n",
    "                                    names=words_for_weights))\n",
    "\n",
    "p.scatter(x=\"x1\", y=\"x2\", size=8, source=source)\n",
    "\n",
    "labels = LabelSet(x=\"x1\", y=\"x2\", text=\"names\", y_offset=6,\n",
    "                  text_font_size=\"8pt\", text_color=\"#555555\",\n",
    "                  source=source, text_align='center')\n",
    "p.add_layout(labels)\n",
    "\n",
    "show(p)"
   ]
  },
  {
   "cell_type": "markdown",
   "metadata": {},
   "source": [
    "### Part 5: Wiki Learnt Representations"
   ]
  },
  {
   "cell_type": "markdown",
   "metadata": {},
   "source": [
    "Download dataset"
   ]
  },
  {
   "cell_type": "code",
   "execution_count": null,
   "metadata": {
    "collapsed": true
   },
   "outputs": [],
   "source": [
    "if not os.path.isfile('wikitext-103-raw-v1.zip'):\n",
    "    urllib.request.urlretrieve(\"https://s3.amazonaws.com/research.metamind.io/wikitext/wikitext-103-raw-v1.zip\", filename=\"wikitext-103-raw-v1.zip\")"
   ]
  },
  {
   "cell_type": "code",
   "execution_count": null,
   "metadata": {
    "collapsed": true
   },
   "outputs": [],
   "source": [
    "with zipfile.ZipFile('wikitext-103-raw-v1.zip', 'r') as z:\n",
    "    input_text = str(z.open('wikitext-103-raw/wiki.train.raw', 'r').read(), encoding='utf-8') # Thanks Robert Bastian"
   ]
  },
  {
   "cell_type": "markdown",
   "metadata": {},
   "source": [
    "Preprocess sentences (note that it's important to remove small sentences for performance)"
   ]
  },
  {
   "cell_type": "code",
   "execution_count": null,
   "metadata": {
    "collapsed": true
   },
   "outputs": [],
   "source": [
    "sentences_wiki = []\n",
    "for line in input_text.split('\\n'):\n",
    "    s = [x for x in line.split('.') if x and len(x.split()) >= 5]\n",
    "    sentences_wiki.extend(s)\n",
    "    \n",
    "for s_i in range(len(sentences_wiki)):\n",
    "    sentences_wiki[s_i] = re.sub(\"[^a-z]\", \" \", sentences_wiki[s_i].lower())\n",
    "    sentences_wiki[s_i] = re.sub(r'\\([^)]*\\)', '', sentences_wiki[s_i])\n",
    "del input_text"
   ]
  },
  {
   "cell_type": "code",
   "execution_count": null,
   "metadata": {
    "collapsed": true
   },
   "outputs": [],
   "source": [
    "# sample 1/5 of the data\n",
    "shuffle(sentences_wiki)\n",
    "print(len(sentences_wiki))\n",
    "sentences_wiki = sentences_wiki[:int(len(sentences_wiki)/5)]\n",
    "print(len(sentences_wiki))"
   ]
  },
  {
   "cell_type": "markdown",
   "metadata": {},
   "source": [
    "Now, repeat all the same steps that you performed above. You should be able to reuse essentially all the code."
   ]
  },
  {
   "cell_type": "code",
   "execution_count": null,
   "metadata": {
    "collapsed": true
   },
   "outputs": [],
   "source": [
    "# ..."
   ]
  },
  {
   "cell_type": "markdown",
   "metadata": {},
   "source": [
    "#### t-SNE visualization"
   ]
  },
  {
   "cell_type": "code",
   "execution_count": null,
   "metadata": {
    "collapsed": true
   },
   "outputs": [],
   "source": [
    "# This assumes words_top_wiki is a list of strings, the top 1000 words\n",
    "words_top_vec_wiki = model_wiki[words_top_wiki]\n",
    "\n",
    "tsne = TSNE(n_components=2, random_state=0)\n",
    "words_top_wiki_tsne = tsne.fit_transform(words_top_vec_wiki)"
   ]
  },
  {
   "cell_type": "code",
   "execution_count": null,
   "metadata": {
    "collapsed": true
   },
   "outputs": [],
   "source": [
    "p = figure(tools=\"pan,wheel_zoom,reset,save\",\n",
    "           toolbar_location=\"above\",\n",
    "           title=\"word2vec T-SNE for most common words\")\n",
    "\n",
    "source = ColumnDataSource(data=dict(x1=words_top_wiki_tsne[:,0],\n",
    "                                    x2=words_top_wiki_tsne[:,1],\n",
    "                                    names=words_top_wiki))\n",
    "\n",
    "p.scatter(x=\"x1\", y=\"x2\", size=8, source=source)\n",
    "\n",
    "labels = LabelSet(x=\"x1\", y=\"x2\", text=\"names\", y_offset=6,\n",
    "                  text_font_size=\"8pt\", text_color=\"#555555\",\n",
    "                  source=source, text_align='center')\n",
    "p.add_layout(labels)\n",
    "\n",
    "show(p)"
   ]
  }
 ],
 "metadata": {
  "anaconda-cloud": {},
  "kernelspec": {
   "display_name": "Python 3",
   "language": "python",
   "name": "python3"
  },
  "language_info": {
   "codemirror_mode": {
    "name": "ipython",
    "version": 3
   },
   "file_extension": ".py",
   "mimetype": "text/x-python",
   "name": "python",
   "nbconvert_exporter": "python",
   "pygments_lexer": "ipython3",
   "version": "3.6.1"
  }
 },
 "nbformat": 4,
 "nbformat_minor": 1
}
